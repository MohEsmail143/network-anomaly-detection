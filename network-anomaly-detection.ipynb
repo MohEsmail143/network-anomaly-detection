{
 "cells": [
  {
   "cell_type": "markdown",
   "metadata": {
    "id": "kD2-UVLHYSfR"
   },
   "source": [
    "# Network Anomaly Detection"
   ]
  },
  {
   "cell_type": "markdown",
   "metadata": {
    "id": "Rz8-DrdNY1j0"
   },
   "source": [
    "## Problem Statement\n",
    "\n",
    "The exponential growth of network traffic has led to an increase in network anomalies, such as cyber attacks, network failures, and hardware malfunctions. Network anomaly detection is a critical task for maintaining the security and stability of computer networks. The objective of this assignment is to help students understand how K-Means and Normalized Cut algorithms can be used for network anomaly detection."
   ]
  },
  {
   "cell_type": "markdown",
   "metadata": {},
   "source": [
    "**Importing Libraries**"
   ]
  },
  {
   "cell_type": "code",
   "execution_count": 1,
   "metadata": {},
   "outputs": [
    {
     "name": "stdout",
     "output_type": "stream",
     "text": [
      "time: 0 ns (started: 2023-09-11 23:36:44 +03:00)\n"
     ]
    }
   ],
   "source": [
    "import numpy as np\n",
    "import matplotlib.pyplot as plt\n",
    "import pandas as pd\n",
    "import os\n",
    "import itertools\n",
    "from scipy.spatial.distance import cdist, pdist\n",
    "from sklearn.metrics.pairwise import rbf_kernel\n",
    "from sklearn.model_selection import train_test_split\n",
    "from sklearn.metrics.cluster import contingency_matrix\n",
    "from sklearn.decomposition import PCA\n",
    "from sklearn.cluster import SpectralClustering, KMeans, kmeans_plusplus\n",
    "from sklearn.neighbors import NearestNeighbors\n",
    "from sklearn import preprocessing\n",
    "\n",
    "plt.rcParams['figure.figsize'] = [10, 6]\n",
    "\n",
    "%load_ext autotime"
   ]
  },
  {
   "cell_type": "markdown",
   "metadata": {},
   "source": [
    "**Utility Functions**"
   ]
  },
  {
   "cell_type": "code",
   "execution_count": 2,
   "metadata": {},
   "outputs": [
    {
     "name": "stdout",
     "output_type": "stream",
     "text": [
      "time: 0 ns (started: 2023-09-11 23:36:44 +03:00)\n"
     ]
    }
   ],
   "source": [
    "def nth_max(X, n):\n",
    "    return np.partition(X.flatten(), -n)[-n]"
   ]
  },
  {
   "cell_type": "code",
   "execution_count": 3,
   "metadata": {},
   "outputs": [
    {
     "name": "stdout",
     "output_type": "stream",
     "text": [
      "time: 0 ns (started: 2023-09-11 23:36:44 +03:00)\n"
     ]
    }
   ],
   "source": [
    "def np_value_counts(ndarray):\n",
    "    unique, counts = np.unique(ndarray, return_counts=True)\n",
    "    return np.asarray((unique, counts)).T"
   ]
  },
  {
   "cell_type": "markdown",
   "metadata": {
    "id": "NFZGooFjYEXF"
   },
   "source": [
    "## 1. Download Datset and Understand the Format\n",
    "\n",
    "For this assignment, we will use the ”KDD Cup 1999” dataset, which is a widely used benchmark dataset for network anomaly detection. This dataset contains network traffic data collected from a simulated environment, including features such as protocol type, service, source and destination IP addresses, source and destination ports, and attack types. The data is available at the following [link](https://kdd.ics.uci.edu/databases/kddcup99/kddcup99.html). You will use the `kddcup.data.gz` for training and `corrected.gz` for testing. Analyze the dataset and preprocess the dataset to be ready for clustering. ”Change the categorical features to numerical”"
   ]
  },
  {
   "cell_type": "code",
   "execution_count": 4,
   "metadata": {},
   "outputs": [
    {
     "name": "stdout",
     "output_type": "stream",
     "text": [
      "time: 0 ns (started: 2023-09-11 23:36:44 +03:00)\n"
     ]
    }
   ],
   "source": [
    "with open('data/kddcup.names') as file:\n",
    "    lines = [line.rstrip() for line in file]\n",
    "columns = [line.split(\":\")[0] for line in lines[1:]]\n",
    "columns.append('label')"
   ]
  },
  {
   "cell_type": "code",
   "execution_count": 5,
   "metadata": {},
   "outputs": [
    {
     "data": {
      "text/plain": [
       "False"
      ]
     },
     "execution_count": 5,
     "metadata": {},
     "output_type": "execute_result"
    },
    {
     "name": "stdout",
     "output_type": "stream",
     "text": [
      "time: 16 ms (started: 2023-09-11 23:36:44 +03:00)\n"
     ]
    }
   ],
   "source": [
    "presaved_files = os.path.isfile('train.gz') and os.path.isfile('train10.gz') and os.path.isfile('test.gz')\n",
    "presaved_files"
   ]
  },
  {
   "cell_type": "code",
   "execution_count": 6,
   "metadata": {
    "id": "USIGK0oTZaF6"
   },
   "outputs": [
    {
     "name": "stdout",
     "output_type": "stream",
     "text": [
      "time: 0 ns (started: 2023-09-11 23:36:44 +03:00)\n"
     ]
    }
   ],
   "source": [
    "if presaved_files:\n",
    "    train = pd.read_csv('train.gz', compression='gzip')\n",
    "    train10 = pd.read_csv('train10.gz', compression='gzip')\n",
    "    test = pd.read_csv('test.gz', compression='gzip')"
   ]
  },
  {
   "cell_type": "code",
   "execution_count": 7,
   "metadata": {
    "id": "USIGK0oTZaF6"
   },
   "outputs": [
    {
     "data": {
      "text/html": [
       "<div>\n",
       "<style scoped>\n",
       "    .dataframe tbody tr th:only-of-type {\n",
       "        vertical-align: middle;\n",
       "    }\n",
       "\n",
       "    .dataframe tbody tr th {\n",
       "        vertical-align: top;\n",
       "    }\n",
       "\n",
       "    .dataframe thead th {\n",
       "        text-align: right;\n",
       "    }\n",
       "</style>\n",
       "<table border=\"1\" class=\"dataframe\">\n",
       "  <thead>\n",
       "    <tr style=\"text-align: right;\">\n",
       "      <th></th>\n",
       "      <th>duration</th>\n",
       "      <th>protocol_type</th>\n",
       "      <th>service</th>\n",
       "      <th>flag</th>\n",
       "      <th>src_bytes</th>\n",
       "      <th>dst_bytes</th>\n",
       "      <th>land</th>\n",
       "      <th>wrong_fragment</th>\n",
       "      <th>urgent</th>\n",
       "      <th>hot</th>\n",
       "      <th>...</th>\n",
       "      <th>dst_host_srv_count</th>\n",
       "      <th>dst_host_same_srv_rate</th>\n",
       "      <th>dst_host_diff_srv_rate</th>\n",
       "      <th>dst_host_same_src_port_rate</th>\n",
       "      <th>dst_host_srv_diff_host_rate</th>\n",
       "      <th>dst_host_serror_rate</th>\n",
       "      <th>dst_host_srv_serror_rate</th>\n",
       "      <th>dst_host_rerror_rate</th>\n",
       "      <th>dst_host_srv_rerror_rate</th>\n",
       "      <th>label</th>\n",
       "    </tr>\n",
       "  </thead>\n",
       "  <tbody>\n",
       "    <tr>\n",
       "      <th>0</th>\n",
       "      <td>0</td>\n",
       "      <td>tcp</td>\n",
       "      <td>http</td>\n",
       "      <td>SF</td>\n",
       "      <td>215</td>\n",
       "      <td>45076</td>\n",
       "      <td>0</td>\n",
       "      <td>0</td>\n",
       "      <td>0</td>\n",
       "      <td>0</td>\n",
       "      <td>...</td>\n",
       "      <td>0</td>\n",
       "      <td>0.0</td>\n",
       "      <td>0.0</td>\n",
       "      <td>0.00</td>\n",
       "      <td>0.00</td>\n",
       "      <td>0.0</td>\n",
       "      <td>0.00</td>\n",
       "      <td>0.0</td>\n",
       "      <td>0.0</td>\n",
       "      <td>normal.</td>\n",
       "    </tr>\n",
       "    <tr>\n",
       "      <th>1</th>\n",
       "      <td>0</td>\n",
       "      <td>tcp</td>\n",
       "      <td>http</td>\n",
       "      <td>SF</td>\n",
       "      <td>162</td>\n",
       "      <td>4528</td>\n",
       "      <td>0</td>\n",
       "      <td>0</td>\n",
       "      <td>0</td>\n",
       "      <td>0</td>\n",
       "      <td>...</td>\n",
       "      <td>1</td>\n",
       "      <td>1.0</td>\n",
       "      <td>0.0</td>\n",
       "      <td>1.00</td>\n",
       "      <td>0.00</td>\n",
       "      <td>0.0</td>\n",
       "      <td>0.00</td>\n",
       "      <td>0.0</td>\n",
       "      <td>0.0</td>\n",
       "      <td>normal.</td>\n",
       "    </tr>\n",
       "    <tr>\n",
       "      <th>2</th>\n",
       "      <td>0</td>\n",
       "      <td>tcp</td>\n",
       "      <td>http</td>\n",
       "      <td>SF</td>\n",
       "      <td>236</td>\n",
       "      <td>1228</td>\n",
       "      <td>0</td>\n",
       "      <td>0</td>\n",
       "      <td>0</td>\n",
       "      <td>0</td>\n",
       "      <td>...</td>\n",
       "      <td>2</td>\n",
       "      <td>1.0</td>\n",
       "      <td>0.0</td>\n",
       "      <td>0.50</td>\n",
       "      <td>0.00</td>\n",
       "      <td>0.0</td>\n",
       "      <td>0.00</td>\n",
       "      <td>0.0</td>\n",
       "      <td>0.0</td>\n",
       "      <td>normal.</td>\n",
       "    </tr>\n",
       "    <tr>\n",
       "      <th>3</th>\n",
       "      <td>0</td>\n",
       "      <td>tcp</td>\n",
       "      <td>http</td>\n",
       "      <td>SF</td>\n",
       "      <td>233</td>\n",
       "      <td>2032</td>\n",
       "      <td>0</td>\n",
       "      <td>0</td>\n",
       "      <td>0</td>\n",
       "      <td>0</td>\n",
       "      <td>...</td>\n",
       "      <td>3</td>\n",
       "      <td>1.0</td>\n",
       "      <td>0.0</td>\n",
       "      <td>0.33</td>\n",
       "      <td>0.00</td>\n",
       "      <td>0.0</td>\n",
       "      <td>0.00</td>\n",
       "      <td>0.0</td>\n",
       "      <td>0.0</td>\n",
       "      <td>normal.</td>\n",
       "    </tr>\n",
       "    <tr>\n",
       "      <th>4</th>\n",
       "      <td>0</td>\n",
       "      <td>tcp</td>\n",
       "      <td>http</td>\n",
       "      <td>SF</td>\n",
       "      <td>239</td>\n",
       "      <td>486</td>\n",
       "      <td>0</td>\n",
       "      <td>0</td>\n",
       "      <td>0</td>\n",
       "      <td>0</td>\n",
       "      <td>...</td>\n",
       "      <td>4</td>\n",
       "      <td>1.0</td>\n",
       "      <td>0.0</td>\n",
       "      <td>0.25</td>\n",
       "      <td>0.00</td>\n",
       "      <td>0.0</td>\n",
       "      <td>0.00</td>\n",
       "      <td>0.0</td>\n",
       "      <td>0.0</td>\n",
       "      <td>normal.</td>\n",
       "    </tr>\n",
       "    <tr>\n",
       "      <th>...</th>\n",
       "      <td>...</td>\n",
       "      <td>...</td>\n",
       "      <td>...</td>\n",
       "      <td>...</td>\n",
       "      <td>...</td>\n",
       "      <td>...</td>\n",
       "      <td>...</td>\n",
       "      <td>...</td>\n",
       "      <td>...</td>\n",
       "      <td>...</td>\n",
       "      <td>...</td>\n",
       "      <td>...</td>\n",
       "      <td>...</td>\n",
       "      <td>...</td>\n",
       "      <td>...</td>\n",
       "      <td>...</td>\n",
       "      <td>...</td>\n",
       "      <td>...</td>\n",
       "      <td>...</td>\n",
       "      <td>...</td>\n",
       "      <td>...</td>\n",
       "    </tr>\n",
       "    <tr>\n",
       "      <th>4898426</th>\n",
       "      <td>0</td>\n",
       "      <td>tcp</td>\n",
       "      <td>http</td>\n",
       "      <td>SF</td>\n",
       "      <td>212</td>\n",
       "      <td>2288</td>\n",
       "      <td>0</td>\n",
       "      <td>0</td>\n",
       "      <td>0</td>\n",
       "      <td>0</td>\n",
       "      <td>...</td>\n",
       "      <td>255</td>\n",
       "      <td>1.0</td>\n",
       "      <td>0.0</td>\n",
       "      <td>0.33</td>\n",
       "      <td>0.05</td>\n",
       "      <td>0.0</td>\n",
       "      <td>0.01</td>\n",
       "      <td>0.0</td>\n",
       "      <td>0.0</td>\n",
       "      <td>normal.</td>\n",
       "    </tr>\n",
       "    <tr>\n",
       "      <th>4898427</th>\n",
       "      <td>0</td>\n",
       "      <td>tcp</td>\n",
       "      <td>http</td>\n",
       "      <td>SF</td>\n",
       "      <td>219</td>\n",
       "      <td>236</td>\n",
       "      <td>0</td>\n",
       "      <td>0</td>\n",
       "      <td>0</td>\n",
       "      <td>0</td>\n",
       "      <td>...</td>\n",
       "      <td>255</td>\n",
       "      <td>1.0</td>\n",
       "      <td>0.0</td>\n",
       "      <td>0.25</td>\n",
       "      <td>0.05</td>\n",
       "      <td>0.0</td>\n",
       "      <td>0.01</td>\n",
       "      <td>0.0</td>\n",
       "      <td>0.0</td>\n",
       "      <td>normal.</td>\n",
       "    </tr>\n",
       "    <tr>\n",
       "      <th>4898428</th>\n",
       "      <td>0</td>\n",
       "      <td>tcp</td>\n",
       "      <td>http</td>\n",
       "      <td>SF</td>\n",
       "      <td>218</td>\n",
       "      <td>3610</td>\n",
       "      <td>0</td>\n",
       "      <td>0</td>\n",
       "      <td>0</td>\n",
       "      <td>0</td>\n",
       "      <td>...</td>\n",
       "      <td>255</td>\n",
       "      <td>1.0</td>\n",
       "      <td>0.0</td>\n",
       "      <td>0.20</td>\n",
       "      <td>0.05</td>\n",
       "      <td>0.0</td>\n",
       "      <td>0.01</td>\n",
       "      <td>0.0</td>\n",
       "      <td>0.0</td>\n",
       "      <td>normal.</td>\n",
       "    </tr>\n",
       "    <tr>\n",
       "      <th>4898429</th>\n",
       "      <td>0</td>\n",
       "      <td>tcp</td>\n",
       "      <td>http</td>\n",
       "      <td>SF</td>\n",
       "      <td>219</td>\n",
       "      <td>1234</td>\n",
       "      <td>0</td>\n",
       "      <td>0</td>\n",
       "      <td>0</td>\n",
       "      <td>0</td>\n",
       "      <td>...</td>\n",
       "      <td>255</td>\n",
       "      <td>1.0</td>\n",
       "      <td>0.0</td>\n",
       "      <td>0.17</td>\n",
       "      <td>0.05</td>\n",
       "      <td>0.0</td>\n",
       "      <td>0.01</td>\n",
       "      <td>0.0</td>\n",
       "      <td>0.0</td>\n",
       "      <td>normal.</td>\n",
       "    </tr>\n",
       "    <tr>\n",
       "      <th>4898430</th>\n",
       "      <td>0</td>\n",
       "      <td>tcp</td>\n",
       "      <td>http</td>\n",
       "      <td>SF</td>\n",
       "      <td>219</td>\n",
       "      <td>1098</td>\n",
       "      <td>0</td>\n",
       "      <td>0</td>\n",
       "      <td>0</td>\n",
       "      <td>0</td>\n",
       "      <td>...</td>\n",
       "      <td>255</td>\n",
       "      <td>1.0</td>\n",
       "      <td>0.0</td>\n",
       "      <td>0.14</td>\n",
       "      <td>0.05</td>\n",
       "      <td>0.0</td>\n",
       "      <td>0.01</td>\n",
       "      <td>0.0</td>\n",
       "      <td>0.0</td>\n",
       "      <td>normal.</td>\n",
       "    </tr>\n",
       "  </tbody>\n",
       "</table>\n",
       "<p>4898431 rows × 42 columns</p>\n",
       "</div>"
      ],
      "text/plain": [
       "         duration protocol_type service flag  src_bytes  dst_bytes  land  \\\n",
       "0               0           tcp    http   SF        215      45076     0   \n",
       "1               0           tcp    http   SF        162       4528     0   \n",
       "2               0           tcp    http   SF        236       1228     0   \n",
       "3               0           tcp    http   SF        233       2032     0   \n",
       "4               0           tcp    http   SF        239        486     0   \n",
       "...           ...           ...     ...  ...        ...        ...   ...   \n",
       "4898426         0           tcp    http   SF        212       2288     0   \n",
       "4898427         0           tcp    http   SF        219        236     0   \n",
       "4898428         0           tcp    http   SF        218       3610     0   \n",
       "4898429         0           tcp    http   SF        219       1234     0   \n",
       "4898430         0           tcp    http   SF        219       1098     0   \n",
       "\n",
       "         wrong_fragment  urgent  hot  ...  dst_host_srv_count  \\\n",
       "0                     0       0    0  ...                   0   \n",
       "1                     0       0    0  ...                   1   \n",
       "2                     0       0    0  ...                   2   \n",
       "3                     0       0    0  ...                   3   \n",
       "4                     0       0    0  ...                   4   \n",
       "...                 ...     ...  ...  ...                 ...   \n",
       "4898426               0       0    0  ...                 255   \n",
       "4898427               0       0    0  ...                 255   \n",
       "4898428               0       0    0  ...                 255   \n",
       "4898429               0       0    0  ...                 255   \n",
       "4898430               0       0    0  ...                 255   \n",
       "\n",
       "         dst_host_same_srv_rate  dst_host_diff_srv_rate  \\\n",
       "0                           0.0                     0.0   \n",
       "1                           1.0                     0.0   \n",
       "2                           1.0                     0.0   \n",
       "3                           1.0                     0.0   \n",
       "4                           1.0                     0.0   \n",
       "...                         ...                     ...   \n",
       "4898426                     1.0                     0.0   \n",
       "4898427                     1.0                     0.0   \n",
       "4898428                     1.0                     0.0   \n",
       "4898429                     1.0                     0.0   \n",
       "4898430                     1.0                     0.0   \n",
       "\n",
       "         dst_host_same_src_port_rate  dst_host_srv_diff_host_rate  \\\n",
       "0                               0.00                         0.00   \n",
       "1                               1.00                         0.00   \n",
       "2                               0.50                         0.00   \n",
       "3                               0.33                         0.00   \n",
       "4                               0.25                         0.00   \n",
       "...                              ...                          ...   \n",
       "4898426                         0.33                         0.05   \n",
       "4898427                         0.25                         0.05   \n",
       "4898428                         0.20                         0.05   \n",
       "4898429                         0.17                         0.05   \n",
       "4898430                         0.14                         0.05   \n",
       "\n",
       "         dst_host_serror_rate  dst_host_srv_serror_rate  dst_host_rerror_rate  \\\n",
       "0                         0.0                      0.00                   0.0   \n",
       "1                         0.0                      0.00                   0.0   \n",
       "2                         0.0                      0.00                   0.0   \n",
       "3                         0.0                      0.00                   0.0   \n",
       "4                         0.0                      0.00                   0.0   \n",
       "...                       ...                       ...                   ...   \n",
       "4898426                   0.0                      0.01                   0.0   \n",
       "4898427                   0.0                      0.01                   0.0   \n",
       "4898428                   0.0                      0.01                   0.0   \n",
       "4898429                   0.0                      0.01                   0.0   \n",
       "4898430                   0.0                      0.01                   0.0   \n",
       "\n",
       "         dst_host_srv_rerror_rate    label  \n",
       "0                             0.0  normal.  \n",
       "1                             0.0  normal.  \n",
       "2                             0.0  normal.  \n",
       "3                             0.0  normal.  \n",
       "4                             0.0  normal.  \n",
       "...                           ...      ...  \n",
       "4898426                       0.0  normal.  \n",
       "4898427                       0.0  normal.  \n",
       "4898428                       0.0  normal.  \n",
       "4898429                       0.0  normal.  \n",
       "4898430                       0.0  normal.  \n",
       "\n",
       "[4898431 rows x 42 columns]"
      ]
     },
     "execution_count": 7,
     "metadata": {},
     "output_type": "execute_result"
    },
    {
     "name": "stdout",
     "output_type": "stream",
     "text": [
      "time: 17.4 s (started: 2023-09-11 23:36:44 +03:00)\n"
     ]
    }
   ],
   "source": [
    "if not presaved_files:\n",
    "    train = pd.read_csv('data/kddcup.data.gz', compression='gzip', names=columns)\n",
    "train"
   ]
  },
  {
   "cell_type": "code",
   "execution_count": 8,
   "metadata": {},
   "outputs": [
    {
     "data": {
      "text/html": [
       "<div>\n",
       "<style scoped>\n",
       "    .dataframe tbody tr th:only-of-type {\n",
       "        vertical-align: middle;\n",
       "    }\n",
       "\n",
       "    .dataframe tbody tr th {\n",
       "        vertical-align: top;\n",
       "    }\n",
       "\n",
       "    .dataframe thead th {\n",
       "        text-align: right;\n",
       "    }\n",
       "</style>\n",
       "<table border=\"1\" class=\"dataframe\">\n",
       "  <thead>\n",
       "    <tr style=\"text-align: right;\">\n",
       "      <th></th>\n",
       "      <th>duration</th>\n",
       "      <th>protocol_type</th>\n",
       "      <th>service</th>\n",
       "      <th>flag</th>\n",
       "      <th>src_bytes</th>\n",
       "      <th>dst_bytes</th>\n",
       "      <th>land</th>\n",
       "      <th>wrong_fragment</th>\n",
       "      <th>urgent</th>\n",
       "      <th>hot</th>\n",
       "      <th>...</th>\n",
       "      <th>dst_host_srv_count</th>\n",
       "      <th>dst_host_same_srv_rate</th>\n",
       "      <th>dst_host_diff_srv_rate</th>\n",
       "      <th>dst_host_same_src_port_rate</th>\n",
       "      <th>dst_host_srv_diff_host_rate</th>\n",
       "      <th>dst_host_serror_rate</th>\n",
       "      <th>dst_host_srv_serror_rate</th>\n",
       "      <th>dst_host_rerror_rate</th>\n",
       "      <th>dst_host_srv_rerror_rate</th>\n",
       "      <th>label</th>\n",
       "    </tr>\n",
       "  </thead>\n",
       "  <tbody>\n",
       "    <tr>\n",
       "      <th>0</th>\n",
       "      <td>0</td>\n",
       "      <td>tcp</td>\n",
       "      <td>http</td>\n",
       "      <td>SF</td>\n",
       "      <td>181</td>\n",
       "      <td>5450</td>\n",
       "      <td>0</td>\n",
       "      <td>0</td>\n",
       "      <td>0</td>\n",
       "      <td>0</td>\n",
       "      <td>...</td>\n",
       "      <td>9</td>\n",
       "      <td>1.0</td>\n",
       "      <td>0.0</td>\n",
       "      <td>0.11</td>\n",
       "      <td>0.00</td>\n",
       "      <td>0.00</td>\n",
       "      <td>0.00</td>\n",
       "      <td>0.0</td>\n",
       "      <td>0.0</td>\n",
       "      <td>normal.</td>\n",
       "    </tr>\n",
       "    <tr>\n",
       "      <th>1</th>\n",
       "      <td>0</td>\n",
       "      <td>tcp</td>\n",
       "      <td>http</td>\n",
       "      <td>SF</td>\n",
       "      <td>239</td>\n",
       "      <td>486</td>\n",
       "      <td>0</td>\n",
       "      <td>0</td>\n",
       "      <td>0</td>\n",
       "      <td>0</td>\n",
       "      <td>...</td>\n",
       "      <td>19</td>\n",
       "      <td>1.0</td>\n",
       "      <td>0.0</td>\n",
       "      <td>0.05</td>\n",
       "      <td>0.00</td>\n",
       "      <td>0.00</td>\n",
       "      <td>0.00</td>\n",
       "      <td>0.0</td>\n",
       "      <td>0.0</td>\n",
       "      <td>normal.</td>\n",
       "    </tr>\n",
       "    <tr>\n",
       "      <th>2</th>\n",
       "      <td>0</td>\n",
       "      <td>tcp</td>\n",
       "      <td>http</td>\n",
       "      <td>SF</td>\n",
       "      <td>235</td>\n",
       "      <td>1337</td>\n",
       "      <td>0</td>\n",
       "      <td>0</td>\n",
       "      <td>0</td>\n",
       "      <td>0</td>\n",
       "      <td>...</td>\n",
       "      <td>29</td>\n",
       "      <td>1.0</td>\n",
       "      <td>0.0</td>\n",
       "      <td>0.03</td>\n",
       "      <td>0.00</td>\n",
       "      <td>0.00</td>\n",
       "      <td>0.00</td>\n",
       "      <td>0.0</td>\n",
       "      <td>0.0</td>\n",
       "      <td>normal.</td>\n",
       "    </tr>\n",
       "    <tr>\n",
       "      <th>3</th>\n",
       "      <td>0</td>\n",
       "      <td>tcp</td>\n",
       "      <td>http</td>\n",
       "      <td>SF</td>\n",
       "      <td>219</td>\n",
       "      <td>1337</td>\n",
       "      <td>0</td>\n",
       "      <td>0</td>\n",
       "      <td>0</td>\n",
       "      <td>0</td>\n",
       "      <td>...</td>\n",
       "      <td>39</td>\n",
       "      <td>1.0</td>\n",
       "      <td>0.0</td>\n",
       "      <td>0.03</td>\n",
       "      <td>0.00</td>\n",
       "      <td>0.00</td>\n",
       "      <td>0.00</td>\n",
       "      <td>0.0</td>\n",
       "      <td>0.0</td>\n",
       "      <td>normal.</td>\n",
       "    </tr>\n",
       "    <tr>\n",
       "      <th>4</th>\n",
       "      <td>0</td>\n",
       "      <td>tcp</td>\n",
       "      <td>http</td>\n",
       "      <td>SF</td>\n",
       "      <td>217</td>\n",
       "      <td>2032</td>\n",
       "      <td>0</td>\n",
       "      <td>0</td>\n",
       "      <td>0</td>\n",
       "      <td>0</td>\n",
       "      <td>...</td>\n",
       "      <td>49</td>\n",
       "      <td>1.0</td>\n",
       "      <td>0.0</td>\n",
       "      <td>0.02</td>\n",
       "      <td>0.00</td>\n",
       "      <td>0.00</td>\n",
       "      <td>0.00</td>\n",
       "      <td>0.0</td>\n",
       "      <td>0.0</td>\n",
       "      <td>normal.</td>\n",
       "    </tr>\n",
       "    <tr>\n",
       "      <th>...</th>\n",
       "      <td>...</td>\n",
       "      <td>...</td>\n",
       "      <td>...</td>\n",
       "      <td>...</td>\n",
       "      <td>...</td>\n",
       "      <td>...</td>\n",
       "      <td>...</td>\n",
       "      <td>...</td>\n",
       "      <td>...</td>\n",
       "      <td>...</td>\n",
       "      <td>...</td>\n",
       "      <td>...</td>\n",
       "      <td>...</td>\n",
       "      <td>...</td>\n",
       "      <td>...</td>\n",
       "      <td>...</td>\n",
       "      <td>...</td>\n",
       "      <td>...</td>\n",
       "      <td>...</td>\n",
       "      <td>...</td>\n",
       "      <td>...</td>\n",
       "    </tr>\n",
       "    <tr>\n",
       "      <th>494016</th>\n",
       "      <td>0</td>\n",
       "      <td>tcp</td>\n",
       "      <td>http</td>\n",
       "      <td>SF</td>\n",
       "      <td>310</td>\n",
       "      <td>1881</td>\n",
       "      <td>0</td>\n",
       "      <td>0</td>\n",
       "      <td>0</td>\n",
       "      <td>0</td>\n",
       "      <td>...</td>\n",
       "      <td>255</td>\n",
       "      <td>1.0</td>\n",
       "      <td>0.0</td>\n",
       "      <td>0.01</td>\n",
       "      <td>0.05</td>\n",
       "      <td>0.00</td>\n",
       "      <td>0.01</td>\n",
       "      <td>0.0</td>\n",
       "      <td>0.0</td>\n",
       "      <td>normal.</td>\n",
       "    </tr>\n",
       "    <tr>\n",
       "      <th>494017</th>\n",
       "      <td>0</td>\n",
       "      <td>tcp</td>\n",
       "      <td>http</td>\n",
       "      <td>SF</td>\n",
       "      <td>282</td>\n",
       "      <td>2286</td>\n",
       "      <td>0</td>\n",
       "      <td>0</td>\n",
       "      <td>0</td>\n",
       "      <td>0</td>\n",
       "      <td>...</td>\n",
       "      <td>255</td>\n",
       "      <td>1.0</td>\n",
       "      <td>0.0</td>\n",
       "      <td>0.17</td>\n",
       "      <td>0.05</td>\n",
       "      <td>0.00</td>\n",
       "      <td>0.01</td>\n",
       "      <td>0.0</td>\n",
       "      <td>0.0</td>\n",
       "      <td>normal.</td>\n",
       "    </tr>\n",
       "    <tr>\n",
       "      <th>494018</th>\n",
       "      <td>0</td>\n",
       "      <td>tcp</td>\n",
       "      <td>http</td>\n",
       "      <td>SF</td>\n",
       "      <td>203</td>\n",
       "      <td>1200</td>\n",
       "      <td>0</td>\n",
       "      <td>0</td>\n",
       "      <td>0</td>\n",
       "      <td>0</td>\n",
       "      <td>...</td>\n",
       "      <td>255</td>\n",
       "      <td>1.0</td>\n",
       "      <td>0.0</td>\n",
       "      <td>0.06</td>\n",
       "      <td>0.05</td>\n",
       "      <td>0.06</td>\n",
       "      <td>0.01</td>\n",
       "      <td>0.0</td>\n",
       "      <td>0.0</td>\n",
       "      <td>normal.</td>\n",
       "    </tr>\n",
       "    <tr>\n",
       "      <th>494019</th>\n",
       "      <td>0</td>\n",
       "      <td>tcp</td>\n",
       "      <td>http</td>\n",
       "      <td>SF</td>\n",
       "      <td>291</td>\n",
       "      <td>1200</td>\n",
       "      <td>0</td>\n",
       "      <td>0</td>\n",
       "      <td>0</td>\n",
       "      <td>0</td>\n",
       "      <td>...</td>\n",
       "      <td>255</td>\n",
       "      <td>1.0</td>\n",
       "      <td>0.0</td>\n",
       "      <td>0.04</td>\n",
       "      <td>0.05</td>\n",
       "      <td>0.04</td>\n",
       "      <td>0.01</td>\n",
       "      <td>0.0</td>\n",
       "      <td>0.0</td>\n",
       "      <td>normal.</td>\n",
       "    </tr>\n",
       "    <tr>\n",
       "      <th>494020</th>\n",
       "      <td>0</td>\n",
       "      <td>tcp</td>\n",
       "      <td>http</td>\n",
       "      <td>SF</td>\n",
       "      <td>219</td>\n",
       "      <td>1234</td>\n",
       "      <td>0</td>\n",
       "      <td>0</td>\n",
       "      <td>0</td>\n",
       "      <td>0</td>\n",
       "      <td>...</td>\n",
       "      <td>255</td>\n",
       "      <td>1.0</td>\n",
       "      <td>0.0</td>\n",
       "      <td>0.17</td>\n",
       "      <td>0.05</td>\n",
       "      <td>0.00</td>\n",
       "      <td>0.01</td>\n",
       "      <td>0.0</td>\n",
       "      <td>0.0</td>\n",
       "      <td>normal.</td>\n",
       "    </tr>\n",
       "  </tbody>\n",
       "</table>\n",
       "<p>494021 rows × 42 columns</p>\n",
       "</div>"
      ],
      "text/plain": [
       "        duration protocol_type service flag  src_bytes  dst_bytes  land  \\\n",
       "0              0           tcp    http   SF        181       5450     0   \n",
       "1              0           tcp    http   SF        239        486     0   \n",
       "2              0           tcp    http   SF        235       1337     0   \n",
       "3              0           tcp    http   SF        219       1337     0   \n",
       "4              0           tcp    http   SF        217       2032     0   \n",
       "...          ...           ...     ...  ...        ...        ...   ...   \n",
       "494016         0           tcp    http   SF        310       1881     0   \n",
       "494017         0           tcp    http   SF        282       2286     0   \n",
       "494018         0           tcp    http   SF        203       1200     0   \n",
       "494019         0           tcp    http   SF        291       1200     0   \n",
       "494020         0           tcp    http   SF        219       1234     0   \n",
       "\n",
       "        wrong_fragment  urgent  hot  ...  dst_host_srv_count  \\\n",
       "0                    0       0    0  ...                   9   \n",
       "1                    0       0    0  ...                  19   \n",
       "2                    0       0    0  ...                  29   \n",
       "3                    0       0    0  ...                  39   \n",
       "4                    0       0    0  ...                  49   \n",
       "...                ...     ...  ...  ...                 ...   \n",
       "494016               0       0    0  ...                 255   \n",
       "494017               0       0    0  ...                 255   \n",
       "494018               0       0    0  ...                 255   \n",
       "494019               0       0    0  ...                 255   \n",
       "494020               0       0    0  ...                 255   \n",
       "\n",
       "        dst_host_same_srv_rate  dst_host_diff_srv_rate  \\\n",
       "0                          1.0                     0.0   \n",
       "1                          1.0                     0.0   \n",
       "2                          1.0                     0.0   \n",
       "3                          1.0                     0.0   \n",
       "4                          1.0                     0.0   \n",
       "...                        ...                     ...   \n",
       "494016                     1.0                     0.0   \n",
       "494017                     1.0                     0.0   \n",
       "494018                     1.0                     0.0   \n",
       "494019                     1.0                     0.0   \n",
       "494020                     1.0                     0.0   \n",
       "\n",
       "        dst_host_same_src_port_rate  dst_host_srv_diff_host_rate  \\\n",
       "0                              0.11                         0.00   \n",
       "1                              0.05                         0.00   \n",
       "2                              0.03                         0.00   \n",
       "3                              0.03                         0.00   \n",
       "4                              0.02                         0.00   \n",
       "...                             ...                          ...   \n",
       "494016                         0.01                         0.05   \n",
       "494017                         0.17                         0.05   \n",
       "494018                         0.06                         0.05   \n",
       "494019                         0.04                         0.05   \n",
       "494020                         0.17                         0.05   \n",
       "\n",
       "        dst_host_serror_rate  dst_host_srv_serror_rate  dst_host_rerror_rate  \\\n",
       "0                       0.00                      0.00                   0.0   \n",
       "1                       0.00                      0.00                   0.0   \n",
       "2                       0.00                      0.00                   0.0   \n",
       "3                       0.00                      0.00                   0.0   \n",
       "4                       0.00                      0.00                   0.0   \n",
       "...                      ...                       ...                   ...   \n",
       "494016                  0.00                      0.01                   0.0   \n",
       "494017                  0.00                      0.01                   0.0   \n",
       "494018                  0.06                      0.01                   0.0   \n",
       "494019                  0.04                      0.01                   0.0   \n",
       "494020                  0.00                      0.01                   0.0   \n",
       "\n",
       "        dst_host_srv_rerror_rate    label  \n",
       "0                            0.0  normal.  \n",
       "1                            0.0  normal.  \n",
       "2                            0.0  normal.  \n",
       "3                            0.0  normal.  \n",
       "4                            0.0  normal.  \n",
       "...                          ...      ...  \n",
       "494016                       0.0  normal.  \n",
       "494017                       0.0  normal.  \n",
       "494018                       0.0  normal.  \n",
       "494019                       0.0  normal.  \n",
       "494020                       0.0  normal.  \n",
       "\n",
       "[494021 rows x 42 columns]"
      ]
     },
     "execution_count": 8,
     "metadata": {},
     "output_type": "execute_result"
    },
    {
     "name": "stdout",
     "output_type": "stream",
     "text": [
      "time: 1.73 s (started: 2023-09-11 23:37:02 +03:00)\n"
     ]
    }
   ],
   "source": [
    "if not presaved_files:\n",
    "    train10 = pd.read_csv('data/kddcup.data_10_percent.gz', compression='gzip', names=columns)\n",
    "train10"
   ]
  },
  {
   "cell_type": "code",
   "execution_count": 9,
   "metadata": {},
   "outputs": [
    {
     "data": {
      "text/html": [
       "<div>\n",
       "<style scoped>\n",
       "    .dataframe tbody tr th:only-of-type {\n",
       "        vertical-align: middle;\n",
       "    }\n",
       "\n",
       "    .dataframe tbody tr th {\n",
       "        vertical-align: top;\n",
       "    }\n",
       "\n",
       "    .dataframe thead th {\n",
       "        text-align: right;\n",
       "    }\n",
       "</style>\n",
       "<table border=\"1\" class=\"dataframe\">\n",
       "  <thead>\n",
       "    <tr style=\"text-align: right;\">\n",
       "      <th></th>\n",
       "      <th>duration</th>\n",
       "      <th>protocol_type</th>\n",
       "      <th>service</th>\n",
       "      <th>flag</th>\n",
       "      <th>src_bytes</th>\n",
       "      <th>dst_bytes</th>\n",
       "      <th>land</th>\n",
       "      <th>wrong_fragment</th>\n",
       "      <th>urgent</th>\n",
       "      <th>hot</th>\n",
       "      <th>...</th>\n",
       "      <th>dst_host_srv_count</th>\n",
       "      <th>dst_host_same_srv_rate</th>\n",
       "      <th>dst_host_diff_srv_rate</th>\n",
       "      <th>dst_host_same_src_port_rate</th>\n",
       "      <th>dst_host_srv_diff_host_rate</th>\n",
       "      <th>dst_host_serror_rate</th>\n",
       "      <th>dst_host_srv_serror_rate</th>\n",
       "      <th>dst_host_rerror_rate</th>\n",
       "      <th>dst_host_srv_rerror_rate</th>\n",
       "      <th>label</th>\n",
       "    </tr>\n",
       "  </thead>\n",
       "  <tbody>\n",
       "    <tr>\n",
       "      <th>0</th>\n",
       "      <td>0</td>\n",
       "      <td>udp</td>\n",
       "      <td>private</td>\n",
       "      <td>SF</td>\n",
       "      <td>105</td>\n",
       "      <td>146</td>\n",
       "      <td>0</td>\n",
       "      <td>0</td>\n",
       "      <td>0</td>\n",
       "      <td>0</td>\n",
       "      <td>...</td>\n",
       "      <td>254</td>\n",
       "      <td>1.0</td>\n",
       "      <td>0.01</td>\n",
       "      <td>0.00</td>\n",
       "      <td>0.0</td>\n",
       "      <td>0.0</td>\n",
       "      <td>0.0</td>\n",
       "      <td>0.0</td>\n",
       "      <td>0.0</td>\n",
       "      <td>normal.</td>\n",
       "    </tr>\n",
       "    <tr>\n",
       "      <th>1</th>\n",
       "      <td>0</td>\n",
       "      <td>udp</td>\n",
       "      <td>private</td>\n",
       "      <td>SF</td>\n",
       "      <td>105</td>\n",
       "      <td>146</td>\n",
       "      <td>0</td>\n",
       "      <td>0</td>\n",
       "      <td>0</td>\n",
       "      <td>0</td>\n",
       "      <td>...</td>\n",
       "      <td>254</td>\n",
       "      <td>1.0</td>\n",
       "      <td>0.01</td>\n",
       "      <td>0.00</td>\n",
       "      <td>0.0</td>\n",
       "      <td>0.0</td>\n",
       "      <td>0.0</td>\n",
       "      <td>0.0</td>\n",
       "      <td>0.0</td>\n",
       "      <td>normal.</td>\n",
       "    </tr>\n",
       "    <tr>\n",
       "      <th>2</th>\n",
       "      <td>0</td>\n",
       "      <td>udp</td>\n",
       "      <td>private</td>\n",
       "      <td>SF</td>\n",
       "      <td>105</td>\n",
       "      <td>146</td>\n",
       "      <td>0</td>\n",
       "      <td>0</td>\n",
       "      <td>0</td>\n",
       "      <td>0</td>\n",
       "      <td>...</td>\n",
       "      <td>254</td>\n",
       "      <td>1.0</td>\n",
       "      <td>0.01</td>\n",
       "      <td>0.00</td>\n",
       "      <td>0.0</td>\n",
       "      <td>0.0</td>\n",
       "      <td>0.0</td>\n",
       "      <td>0.0</td>\n",
       "      <td>0.0</td>\n",
       "      <td>normal.</td>\n",
       "    </tr>\n",
       "    <tr>\n",
       "      <th>3</th>\n",
       "      <td>0</td>\n",
       "      <td>udp</td>\n",
       "      <td>private</td>\n",
       "      <td>SF</td>\n",
       "      <td>105</td>\n",
       "      <td>146</td>\n",
       "      <td>0</td>\n",
       "      <td>0</td>\n",
       "      <td>0</td>\n",
       "      <td>0</td>\n",
       "      <td>...</td>\n",
       "      <td>254</td>\n",
       "      <td>1.0</td>\n",
       "      <td>0.01</td>\n",
       "      <td>0.00</td>\n",
       "      <td>0.0</td>\n",
       "      <td>0.0</td>\n",
       "      <td>0.0</td>\n",
       "      <td>0.0</td>\n",
       "      <td>0.0</td>\n",
       "      <td>snmpgetattack.</td>\n",
       "    </tr>\n",
       "    <tr>\n",
       "      <th>4</th>\n",
       "      <td>0</td>\n",
       "      <td>udp</td>\n",
       "      <td>private</td>\n",
       "      <td>SF</td>\n",
       "      <td>105</td>\n",
       "      <td>146</td>\n",
       "      <td>0</td>\n",
       "      <td>0</td>\n",
       "      <td>0</td>\n",
       "      <td>0</td>\n",
       "      <td>...</td>\n",
       "      <td>254</td>\n",
       "      <td>1.0</td>\n",
       "      <td>0.01</td>\n",
       "      <td>0.01</td>\n",
       "      <td>0.0</td>\n",
       "      <td>0.0</td>\n",
       "      <td>0.0</td>\n",
       "      <td>0.0</td>\n",
       "      <td>0.0</td>\n",
       "      <td>snmpgetattack.</td>\n",
       "    </tr>\n",
       "    <tr>\n",
       "      <th>...</th>\n",
       "      <td>...</td>\n",
       "      <td>...</td>\n",
       "      <td>...</td>\n",
       "      <td>...</td>\n",
       "      <td>...</td>\n",
       "      <td>...</td>\n",
       "      <td>...</td>\n",
       "      <td>...</td>\n",
       "      <td>...</td>\n",
       "      <td>...</td>\n",
       "      <td>...</td>\n",
       "      <td>...</td>\n",
       "      <td>...</td>\n",
       "      <td>...</td>\n",
       "      <td>...</td>\n",
       "      <td>...</td>\n",
       "      <td>...</td>\n",
       "      <td>...</td>\n",
       "      <td>...</td>\n",
       "      <td>...</td>\n",
       "      <td>...</td>\n",
       "    </tr>\n",
       "    <tr>\n",
       "      <th>311024</th>\n",
       "      <td>0</td>\n",
       "      <td>udp</td>\n",
       "      <td>private</td>\n",
       "      <td>SF</td>\n",
       "      <td>105</td>\n",
       "      <td>147</td>\n",
       "      <td>0</td>\n",
       "      <td>0</td>\n",
       "      <td>0</td>\n",
       "      <td>0</td>\n",
       "      <td>...</td>\n",
       "      <td>255</td>\n",
       "      <td>1.0</td>\n",
       "      <td>0.00</td>\n",
       "      <td>0.01</td>\n",
       "      <td>0.0</td>\n",
       "      <td>0.0</td>\n",
       "      <td>0.0</td>\n",
       "      <td>0.0</td>\n",
       "      <td>0.0</td>\n",
       "      <td>normal.</td>\n",
       "    </tr>\n",
       "    <tr>\n",
       "      <th>311025</th>\n",
       "      <td>0</td>\n",
       "      <td>udp</td>\n",
       "      <td>private</td>\n",
       "      <td>SF</td>\n",
       "      <td>105</td>\n",
       "      <td>147</td>\n",
       "      <td>0</td>\n",
       "      <td>0</td>\n",
       "      <td>0</td>\n",
       "      <td>0</td>\n",
       "      <td>...</td>\n",
       "      <td>255</td>\n",
       "      <td>1.0</td>\n",
       "      <td>0.00</td>\n",
       "      <td>0.01</td>\n",
       "      <td>0.0</td>\n",
       "      <td>0.0</td>\n",
       "      <td>0.0</td>\n",
       "      <td>0.0</td>\n",
       "      <td>0.0</td>\n",
       "      <td>normal.</td>\n",
       "    </tr>\n",
       "    <tr>\n",
       "      <th>311026</th>\n",
       "      <td>0</td>\n",
       "      <td>udp</td>\n",
       "      <td>private</td>\n",
       "      <td>SF</td>\n",
       "      <td>105</td>\n",
       "      <td>147</td>\n",
       "      <td>0</td>\n",
       "      <td>0</td>\n",
       "      <td>0</td>\n",
       "      <td>0</td>\n",
       "      <td>...</td>\n",
       "      <td>255</td>\n",
       "      <td>1.0</td>\n",
       "      <td>0.00</td>\n",
       "      <td>0.01</td>\n",
       "      <td>0.0</td>\n",
       "      <td>0.0</td>\n",
       "      <td>0.0</td>\n",
       "      <td>0.0</td>\n",
       "      <td>0.0</td>\n",
       "      <td>normal.</td>\n",
       "    </tr>\n",
       "    <tr>\n",
       "      <th>311027</th>\n",
       "      <td>0</td>\n",
       "      <td>udp</td>\n",
       "      <td>private</td>\n",
       "      <td>SF</td>\n",
       "      <td>105</td>\n",
       "      <td>147</td>\n",
       "      <td>0</td>\n",
       "      <td>0</td>\n",
       "      <td>0</td>\n",
       "      <td>0</td>\n",
       "      <td>...</td>\n",
       "      <td>255</td>\n",
       "      <td>1.0</td>\n",
       "      <td>0.00</td>\n",
       "      <td>0.01</td>\n",
       "      <td>0.0</td>\n",
       "      <td>0.0</td>\n",
       "      <td>0.0</td>\n",
       "      <td>0.0</td>\n",
       "      <td>0.0</td>\n",
       "      <td>normal.</td>\n",
       "    </tr>\n",
       "    <tr>\n",
       "      <th>311028</th>\n",
       "      <td>0</td>\n",
       "      <td>udp</td>\n",
       "      <td>private</td>\n",
       "      <td>SF</td>\n",
       "      <td>105</td>\n",
       "      <td>147</td>\n",
       "      <td>0</td>\n",
       "      <td>0</td>\n",
       "      <td>0</td>\n",
       "      <td>0</td>\n",
       "      <td>...</td>\n",
       "      <td>255</td>\n",
       "      <td>1.0</td>\n",
       "      <td>0.00</td>\n",
       "      <td>0.01</td>\n",
       "      <td>0.0</td>\n",
       "      <td>0.0</td>\n",
       "      <td>0.0</td>\n",
       "      <td>0.0</td>\n",
       "      <td>0.0</td>\n",
       "      <td>normal.</td>\n",
       "    </tr>\n",
       "  </tbody>\n",
       "</table>\n",
       "<p>311029 rows × 42 columns</p>\n",
       "</div>"
      ],
      "text/plain": [
       "        duration protocol_type  service flag  src_bytes  dst_bytes  land  \\\n",
       "0              0           udp  private   SF        105        146     0   \n",
       "1              0           udp  private   SF        105        146     0   \n",
       "2              0           udp  private   SF        105        146     0   \n",
       "3              0           udp  private   SF        105        146     0   \n",
       "4              0           udp  private   SF        105        146     0   \n",
       "...          ...           ...      ...  ...        ...        ...   ...   \n",
       "311024         0           udp  private   SF        105        147     0   \n",
       "311025         0           udp  private   SF        105        147     0   \n",
       "311026         0           udp  private   SF        105        147     0   \n",
       "311027         0           udp  private   SF        105        147     0   \n",
       "311028         0           udp  private   SF        105        147     0   \n",
       "\n",
       "        wrong_fragment  urgent  hot  ...  dst_host_srv_count  \\\n",
       "0                    0       0    0  ...                 254   \n",
       "1                    0       0    0  ...                 254   \n",
       "2                    0       0    0  ...                 254   \n",
       "3                    0       0    0  ...                 254   \n",
       "4                    0       0    0  ...                 254   \n",
       "...                ...     ...  ...  ...                 ...   \n",
       "311024               0       0    0  ...                 255   \n",
       "311025               0       0    0  ...                 255   \n",
       "311026               0       0    0  ...                 255   \n",
       "311027               0       0    0  ...                 255   \n",
       "311028               0       0    0  ...                 255   \n",
       "\n",
       "        dst_host_same_srv_rate  dst_host_diff_srv_rate  \\\n",
       "0                          1.0                    0.01   \n",
       "1                          1.0                    0.01   \n",
       "2                          1.0                    0.01   \n",
       "3                          1.0                    0.01   \n",
       "4                          1.0                    0.01   \n",
       "...                        ...                     ...   \n",
       "311024                     1.0                    0.00   \n",
       "311025                     1.0                    0.00   \n",
       "311026                     1.0                    0.00   \n",
       "311027                     1.0                    0.00   \n",
       "311028                     1.0                    0.00   \n",
       "\n",
       "        dst_host_same_src_port_rate  dst_host_srv_diff_host_rate  \\\n",
       "0                              0.00                          0.0   \n",
       "1                              0.00                          0.0   \n",
       "2                              0.00                          0.0   \n",
       "3                              0.00                          0.0   \n",
       "4                              0.01                          0.0   \n",
       "...                             ...                          ...   \n",
       "311024                         0.01                          0.0   \n",
       "311025                         0.01                          0.0   \n",
       "311026                         0.01                          0.0   \n",
       "311027                         0.01                          0.0   \n",
       "311028                         0.01                          0.0   \n",
       "\n",
       "        dst_host_serror_rate  dst_host_srv_serror_rate  dst_host_rerror_rate  \\\n",
       "0                        0.0                       0.0                   0.0   \n",
       "1                        0.0                       0.0                   0.0   \n",
       "2                        0.0                       0.0                   0.0   \n",
       "3                        0.0                       0.0                   0.0   \n",
       "4                        0.0                       0.0                   0.0   \n",
       "...                      ...                       ...                   ...   \n",
       "311024                   0.0                       0.0                   0.0   \n",
       "311025                   0.0                       0.0                   0.0   \n",
       "311026                   0.0                       0.0                   0.0   \n",
       "311027                   0.0                       0.0                   0.0   \n",
       "311028                   0.0                       0.0                   0.0   \n",
       "\n",
       "        dst_host_srv_rerror_rate           label  \n",
       "0                            0.0         normal.  \n",
       "1                            0.0         normal.  \n",
       "2                            0.0         normal.  \n",
       "3                            0.0  snmpgetattack.  \n",
       "4                            0.0  snmpgetattack.  \n",
       "...                          ...             ...  \n",
       "311024                       0.0         normal.  \n",
       "311025                       0.0         normal.  \n",
       "311026                       0.0         normal.  \n",
       "311027                       0.0         normal.  \n",
       "311028                       0.0         normal.  \n",
       "\n",
       "[311029 rows x 42 columns]"
      ]
     },
     "execution_count": 9,
     "metadata": {},
     "output_type": "execute_result"
    },
    {
     "name": "stdout",
     "output_type": "stream",
     "text": [
      "time: 1.2 s (started: 2023-09-11 23:37:03 +03:00)\n"
     ]
    }
   ],
   "source": [
    "if not presaved_files:\n",
    "    test = pd.read_csv('data/corrected.gz', compression='gzip', names=columns)\n",
    "test"
   ]
  },
  {
   "cell_type": "markdown",
   "metadata": {},
   "source": [
    "**One-Hot Encoding Categorical Columns**"
   ]
  },
  {
   "cell_type": "code",
   "execution_count": 10,
   "metadata": {},
   "outputs": [
    {
     "name": "stdout",
     "output_type": "stream",
     "text": [
      "time: 0 ns (started: 2023-09-11 23:37:05 +03:00)\n"
     ]
    }
   ],
   "source": [
    "def one_hot_encode_df(df1, df2, df3, columns_to_encode):\n",
    "    dataframes = [df1, df2, df3]\n",
    "\n",
    "    # Concatenate the DataFrames vertically\n",
    "    concatenated_df = pd.concat(dataframes)\n",
    "\n",
    "    # Perform one-hot encoding on the concatenated DataFrame\n",
    "    encoded_df = pd.get_dummies(concatenated_df, columns=columns_to_encode)\n",
    "\n",
    "    # Split the encoded DataFrame back into the original three DataFrames\n",
    "    df1_encoded = encoded_df[:len(df1)]\n",
    "    df2_encoded = encoded_df[len(df1):len(df1)+len(df2)]\n",
    "    df3_encoded = encoded_df[len(df1)+len(df2):]\n",
    "\n",
    "    return df1_encoded, df2_encoded, df3_encoded"
   ]
  },
  {
   "cell_type": "code",
   "execution_count": 11,
   "metadata": {},
   "outputs": [
    {
     "name": "stdout",
     "output_type": "stream",
     "text": [
      "time: 8.56 s (started: 2023-09-11 23:37:05 +03:00)\n"
     ]
    }
   ],
   "source": [
    "if not presaved_files:\n",
    "    train, train10, test = one_hot_encode_df(train, train10, test, ['protocol_type', 'service', 'flag'])"
   ]
  },
  {
   "cell_type": "markdown",
   "metadata": {},
   "source": [
    "**Label encode labels**"
   ]
  },
  {
   "cell_type": "code",
   "execution_count": 12,
   "metadata": {},
   "outputs": [
    {
     "name": "stdout",
     "output_type": "stream",
     "text": [
      "time: 50.6 s (started: 2023-09-11 23:37:13 +03:00)\n"
     ]
    }
   ],
   "source": [
    "if not presaved_files:\n",
    "    le = preprocessing.LabelEncoder()\n",
    "    le.fit(pd.concat([train['label'], test['label']], axis=0))\n",
    "    le_mapping = dict(zip(le.classes_, le.transform(le.classes_)))\n",
    "\n",
    "    train.replace({'label': le_mapping}, inplace=True)\n",
    "    train10.replace({'label': le_mapping}, inplace=True)\n",
    "    test.replace({'label': le_mapping}, inplace=True)"
   ]
  },
  {
   "cell_type": "markdown",
   "metadata": {},
   "source": [
    "**Save Processed Data for Later Runs**"
   ]
  },
  {
   "cell_type": "code",
   "execution_count": 13,
   "metadata": {},
   "outputs": [
    {
     "data": {
      "text/html": [
       "<div>\n",
       "<style scoped>\n",
       "    .dataframe tbody tr th:only-of-type {\n",
       "        vertical-align: middle;\n",
       "    }\n",
       "\n",
       "    .dataframe tbody tr th {\n",
       "        vertical-align: top;\n",
       "    }\n",
       "\n",
       "    .dataframe thead th {\n",
       "        text-align: right;\n",
       "    }\n",
       "</style>\n",
       "<table border=\"1\" class=\"dataframe\">\n",
       "  <thead>\n",
       "    <tr style=\"text-align: right;\">\n",
       "      <th></th>\n",
       "      <th>duration</th>\n",
       "      <th>src_bytes</th>\n",
       "      <th>dst_bytes</th>\n",
       "      <th>land</th>\n",
       "      <th>wrong_fragment</th>\n",
       "      <th>urgent</th>\n",
       "      <th>hot</th>\n",
       "      <th>num_failed_logins</th>\n",
       "      <th>logged_in</th>\n",
       "      <th>num_compromised</th>\n",
       "      <th>...</th>\n",
       "      <th>flag_REJ</th>\n",
       "      <th>flag_RSTO</th>\n",
       "      <th>flag_RSTOS0</th>\n",
       "      <th>flag_RSTR</th>\n",
       "      <th>flag_S0</th>\n",
       "      <th>flag_S1</th>\n",
       "      <th>flag_S2</th>\n",
       "      <th>flag_S3</th>\n",
       "      <th>flag_SF</th>\n",
       "      <th>flag_SH</th>\n",
       "    </tr>\n",
       "  </thead>\n",
       "  <tbody>\n",
       "    <tr>\n",
       "      <th>0</th>\n",
       "      <td>0</td>\n",
       "      <td>215</td>\n",
       "      <td>45076</td>\n",
       "      <td>0</td>\n",
       "      <td>0</td>\n",
       "      <td>0</td>\n",
       "      <td>0</td>\n",
       "      <td>0</td>\n",
       "      <td>1</td>\n",
       "      <td>0</td>\n",
       "      <td>...</td>\n",
       "      <td>False</td>\n",
       "      <td>False</td>\n",
       "      <td>False</td>\n",
       "      <td>False</td>\n",
       "      <td>False</td>\n",
       "      <td>False</td>\n",
       "      <td>False</td>\n",
       "      <td>False</td>\n",
       "      <td>True</td>\n",
       "      <td>False</td>\n",
       "    </tr>\n",
       "    <tr>\n",
       "      <th>1</th>\n",
       "      <td>0</td>\n",
       "      <td>162</td>\n",
       "      <td>4528</td>\n",
       "      <td>0</td>\n",
       "      <td>0</td>\n",
       "      <td>0</td>\n",
       "      <td>0</td>\n",
       "      <td>0</td>\n",
       "      <td>1</td>\n",
       "      <td>0</td>\n",
       "      <td>...</td>\n",
       "      <td>False</td>\n",
       "      <td>False</td>\n",
       "      <td>False</td>\n",
       "      <td>False</td>\n",
       "      <td>False</td>\n",
       "      <td>False</td>\n",
       "      <td>False</td>\n",
       "      <td>False</td>\n",
       "      <td>True</td>\n",
       "      <td>False</td>\n",
       "    </tr>\n",
       "    <tr>\n",
       "      <th>2</th>\n",
       "      <td>0</td>\n",
       "      <td>236</td>\n",
       "      <td>1228</td>\n",
       "      <td>0</td>\n",
       "      <td>0</td>\n",
       "      <td>0</td>\n",
       "      <td>0</td>\n",
       "      <td>0</td>\n",
       "      <td>1</td>\n",
       "      <td>0</td>\n",
       "      <td>...</td>\n",
       "      <td>False</td>\n",
       "      <td>False</td>\n",
       "      <td>False</td>\n",
       "      <td>False</td>\n",
       "      <td>False</td>\n",
       "      <td>False</td>\n",
       "      <td>False</td>\n",
       "      <td>False</td>\n",
       "      <td>True</td>\n",
       "      <td>False</td>\n",
       "    </tr>\n",
       "    <tr>\n",
       "      <th>3</th>\n",
       "      <td>0</td>\n",
       "      <td>233</td>\n",
       "      <td>2032</td>\n",
       "      <td>0</td>\n",
       "      <td>0</td>\n",
       "      <td>0</td>\n",
       "      <td>0</td>\n",
       "      <td>0</td>\n",
       "      <td>1</td>\n",
       "      <td>0</td>\n",
       "      <td>...</td>\n",
       "      <td>False</td>\n",
       "      <td>False</td>\n",
       "      <td>False</td>\n",
       "      <td>False</td>\n",
       "      <td>False</td>\n",
       "      <td>False</td>\n",
       "      <td>False</td>\n",
       "      <td>False</td>\n",
       "      <td>True</td>\n",
       "      <td>False</td>\n",
       "    </tr>\n",
       "    <tr>\n",
       "      <th>4</th>\n",
       "      <td>0</td>\n",
       "      <td>239</td>\n",
       "      <td>486</td>\n",
       "      <td>0</td>\n",
       "      <td>0</td>\n",
       "      <td>0</td>\n",
       "      <td>0</td>\n",
       "      <td>0</td>\n",
       "      <td>1</td>\n",
       "      <td>0</td>\n",
       "      <td>...</td>\n",
       "      <td>False</td>\n",
       "      <td>False</td>\n",
       "      <td>False</td>\n",
       "      <td>False</td>\n",
       "      <td>False</td>\n",
       "      <td>False</td>\n",
       "      <td>False</td>\n",
       "      <td>False</td>\n",
       "      <td>True</td>\n",
       "      <td>False</td>\n",
       "    </tr>\n",
       "    <tr>\n",
       "      <th>...</th>\n",
       "      <td>...</td>\n",
       "      <td>...</td>\n",
       "      <td>...</td>\n",
       "      <td>...</td>\n",
       "      <td>...</td>\n",
       "      <td>...</td>\n",
       "      <td>...</td>\n",
       "      <td>...</td>\n",
       "      <td>...</td>\n",
       "      <td>...</td>\n",
       "      <td>...</td>\n",
       "      <td>...</td>\n",
       "      <td>...</td>\n",
       "      <td>...</td>\n",
       "      <td>...</td>\n",
       "      <td>...</td>\n",
       "      <td>...</td>\n",
       "      <td>...</td>\n",
       "      <td>...</td>\n",
       "      <td>...</td>\n",
       "      <td>...</td>\n",
       "    </tr>\n",
       "    <tr>\n",
       "      <th>4898425</th>\n",
       "      <td>0</td>\n",
       "      <td>219</td>\n",
       "      <td>244</td>\n",
       "      <td>0</td>\n",
       "      <td>0</td>\n",
       "      <td>0</td>\n",
       "      <td>0</td>\n",
       "      <td>0</td>\n",
       "      <td>1</td>\n",
       "      <td>0</td>\n",
       "      <td>...</td>\n",
       "      <td>False</td>\n",
       "      <td>False</td>\n",
       "      <td>False</td>\n",
       "      <td>False</td>\n",
       "      <td>False</td>\n",
       "      <td>False</td>\n",
       "      <td>False</td>\n",
       "      <td>False</td>\n",
       "      <td>True</td>\n",
       "      <td>False</td>\n",
       "    </tr>\n",
       "    <tr>\n",
       "      <th>4898426</th>\n",
       "      <td>0</td>\n",
       "      <td>212</td>\n",
       "      <td>2288</td>\n",
       "      <td>0</td>\n",
       "      <td>0</td>\n",
       "      <td>0</td>\n",
       "      <td>0</td>\n",
       "      <td>0</td>\n",
       "      <td>1</td>\n",
       "      <td>0</td>\n",
       "      <td>...</td>\n",
       "      <td>False</td>\n",
       "      <td>False</td>\n",
       "      <td>False</td>\n",
       "      <td>False</td>\n",
       "      <td>False</td>\n",
       "      <td>False</td>\n",
       "      <td>False</td>\n",
       "      <td>False</td>\n",
       "      <td>True</td>\n",
       "      <td>False</td>\n",
       "    </tr>\n",
       "    <tr>\n",
       "      <th>4898427</th>\n",
       "      <td>0</td>\n",
       "      <td>219</td>\n",
       "      <td>236</td>\n",
       "      <td>0</td>\n",
       "      <td>0</td>\n",
       "      <td>0</td>\n",
       "      <td>0</td>\n",
       "      <td>0</td>\n",
       "      <td>1</td>\n",
       "      <td>0</td>\n",
       "      <td>...</td>\n",
       "      <td>False</td>\n",
       "      <td>False</td>\n",
       "      <td>False</td>\n",
       "      <td>False</td>\n",
       "      <td>False</td>\n",
       "      <td>False</td>\n",
       "      <td>False</td>\n",
       "      <td>False</td>\n",
       "      <td>True</td>\n",
       "      <td>False</td>\n",
       "    </tr>\n",
       "    <tr>\n",
       "      <th>4898428</th>\n",
       "      <td>0</td>\n",
       "      <td>218</td>\n",
       "      <td>3610</td>\n",
       "      <td>0</td>\n",
       "      <td>0</td>\n",
       "      <td>0</td>\n",
       "      <td>0</td>\n",
       "      <td>0</td>\n",
       "      <td>1</td>\n",
       "      <td>0</td>\n",
       "      <td>...</td>\n",
       "      <td>False</td>\n",
       "      <td>False</td>\n",
       "      <td>False</td>\n",
       "      <td>False</td>\n",
       "      <td>False</td>\n",
       "      <td>False</td>\n",
       "      <td>False</td>\n",
       "      <td>False</td>\n",
       "      <td>True</td>\n",
       "      <td>False</td>\n",
       "    </tr>\n",
       "    <tr>\n",
       "      <th>4898429</th>\n",
       "      <td>0</td>\n",
       "      <td>219</td>\n",
       "      <td>1234</td>\n",
       "      <td>0</td>\n",
       "      <td>0</td>\n",
       "      <td>0</td>\n",
       "      <td>0</td>\n",
       "      <td>0</td>\n",
       "      <td>1</td>\n",
       "      <td>0</td>\n",
       "      <td>...</td>\n",
       "      <td>False</td>\n",
       "      <td>False</td>\n",
       "      <td>False</td>\n",
       "      <td>False</td>\n",
       "      <td>False</td>\n",
       "      <td>False</td>\n",
       "      <td>False</td>\n",
       "      <td>False</td>\n",
       "      <td>True</td>\n",
       "      <td>False</td>\n",
       "    </tr>\n",
       "  </tbody>\n",
       "</table>\n",
       "<p>4898430 rows × 124 columns</p>\n",
       "</div>"
      ],
      "text/plain": [
       "         duration  src_bytes  dst_bytes  land  wrong_fragment  urgent  hot  \\\n",
       "0               0        215      45076     0               0       0    0   \n",
       "1               0        162       4528     0               0       0    0   \n",
       "2               0        236       1228     0               0       0    0   \n",
       "3               0        233       2032     0               0       0    0   \n",
       "4               0        239        486     0               0       0    0   \n",
       "...           ...        ...        ...   ...             ...     ...  ...   \n",
       "4898425         0        219        244     0               0       0    0   \n",
       "4898426         0        212       2288     0               0       0    0   \n",
       "4898427         0        219        236     0               0       0    0   \n",
       "4898428         0        218       3610     0               0       0    0   \n",
       "4898429         0        219       1234     0               0       0    0   \n",
       "\n",
       "         num_failed_logins  logged_in  num_compromised  ...  flag_REJ  \\\n",
       "0                        0          1                0  ...     False   \n",
       "1                        0          1                0  ...     False   \n",
       "2                        0          1                0  ...     False   \n",
       "3                        0          1                0  ...     False   \n",
       "4                        0          1                0  ...     False   \n",
       "...                    ...        ...              ...  ...       ...   \n",
       "4898425                  0          1                0  ...     False   \n",
       "4898426                  0          1                0  ...     False   \n",
       "4898427                  0          1                0  ...     False   \n",
       "4898428                  0          1                0  ...     False   \n",
       "4898429                  0          1                0  ...     False   \n",
       "\n",
       "         flag_RSTO  flag_RSTOS0  flag_RSTR  flag_S0  flag_S1  flag_S2  \\\n",
       "0            False        False      False    False    False    False   \n",
       "1            False        False      False    False    False    False   \n",
       "2            False        False      False    False    False    False   \n",
       "3            False        False      False    False    False    False   \n",
       "4            False        False      False    False    False    False   \n",
       "...            ...          ...        ...      ...      ...      ...   \n",
       "4898425      False        False      False    False    False    False   \n",
       "4898426      False        False      False    False    False    False   \n",
       "4898427      False        False      False    False    False    False   \n",
       "4898428      False        False      False    False    False    False   \n",
       "4898429      False        False      False    False    False    False   \n",
       "\n",
       "         flag_S3  flag_SF  flag_SH  \n",
       "0          False     True    False  \n",
       "1          False     True    False  \n",
       "2          False     True    False  \n",
       "3          False     True    False  \n",
       "4          False     True    False  \n",
       "...          ...      ...      ...  \n",
       "4898425    False     True    False  \n",
       "4898426    False     True    False  \n",
       "4898427    False     True    False  \n",
       "4898428    False     True    False  \n",
       "4898429    False     True    False  \n",
       "\n",
       "[4898430 rows x 124 columns]"
      ]
     },
     "execution_count": 13,
     "metadata": {},
     "output_type": "execute_result"
    },
    {
     "name": "stdout",
     "output_type": "stream",
     "text": [
      "time: 1 s (started: 2023-09-11 23:38:04 +03:00)\n"
     ]
    }
   ],
   "source": [
    "train.iloc[:-1]"
   ]
  },
  {
   "cell_type": "code",
   "execution_count": 14,
   "metadata": {},
   "outputs": [
    {
     "name": "stdout",
     "output_type": "stream",
     "text": [
      "time: 3min 23s (started: 2023-09-11 23:38:05 +03:00)\n"
     ]
    }
   ],
   "source": [
    "if not presaved_files:\n",
    "    train.to_csv(\"train.gz\", index=False, compression=\"gzip\")\n",
    "    train10.to_csv(\"train10.gz\", index=False, compression=\"gzip\")\n",
    "    test.to_csv(\"test.gz\", index=False, compression=\"gzip\")\n",
    "    \n",
    "    presaved_files = True"
   ]
  },
  {
   "cell_type": "markdown",
   "metadata": {},
   "source": [
    "**Dropping the label column**"
   ]
  },
  {
   "cell_type": "code",
   "execution_count": 15,
   "metadata": {},
   "outputs": [
    {
     "name": "stdout",
     "output_type": "stream",
     "text": [
      "time: 1.31 s (started: 2023-09-11 23:41:29 +03:00)\n"
     ]
    }
   ],
   "source": [
    "train_label = train.loc[:, 'label']\n",
    "train.drop(['label'], axis=1, inplace=True)"
   ]
  },
  {
   "cell_type": "code",
   "execution_count": 16,
   "metadata": {},
   "outputs": [
    {
     "name": "stdout",
     "output_type": "stream",
     "text": [
      "time: 156 ms (started: 2023-09-11 23:41:30 +03:00)\n"
     ]
    }
   ],
   "source": [
    "train10_label = train10.loc[:, 'label']\n",
    "train10.drop(['label'], axis=1, inplace=True)"
   ]
  },
  {
   "cell_type": "code",
   "execution_count": 17,
   "metadata": {},
   "outputs": [
    {
     "name": "stdout",
     "output_type": "stream",
     "text": [
      "time: 281 ms (started: 2023-09-11 23:41:30 +03:00)\n"
     ]
    }
   ],
   "source": [
    "test_label = test.loc[:, 'label']\n",
    "test.drop(['label'], axis=1, inplace=True)"
   ]
  },
  {
   "cell_type": "markdown",
   "metadata": {},
   "source": [
    "**Dataset Analysis**"
   ]
  },
  {
   "cell_type": "code",
   "execution_count": 18,
   "metadata": {},
   "outputs": [
    {
     "name": "stdout",
     "output_type": "stream",
     "text": [
      "<class 'pandas.core.frame.DataFrame'>\n",
      "Index: 4898431 entries, 0 to 4898430\n",
      "Columns: 123 entries, duration to flag_SH\n",
      "dtypes: bool(85), float64(15), int64(23)\n",
      "memory usage: 1.8 GB\n",
      "time: 31 ms (started: 2023-09-11 23:41:31 +03:00)\n"
     ]
    }
   ],
   "source": [
    "train.info()"
   ]
  },
  {
   "cell_type": "code",
   "execution_count": 19,
   "metadata": {},
   "outputs": [
    {
     "name": "stdout",
     "output_type": "stream",
     "text": [
      "<class 'pandas.core.frame.DataFrame'>\n",
      "Index: 494021 entries, 0 to 494020\n",
      "Columns: 123 entries, duration to flag_SH\n",
      "dtypes: bool(85), float64(15), int64(23)\n",
      "memory usage: 187.0 MB\n",
      "time: 15 ms (started: 2023-09-11 23:41:31 +03:00)\n"
     ]
    }
   ],
   "source": [
    "train10.info()"
   ]
  },
  {
   "cell_type": "code",
   "execution_count": 20,
   "metadata": {},
   "outputs": [
    {
     "name": "stdout",
     "output_type": "stream",
     "text": [
      "<class 'pandas.core.frame.DataFrame'>\n",
      "Index: 311029 entries, 0 to 311028\n",
      "Columns: 123 entries, duration to flag_SH\n",
      "dtypes: bool(85), float64(15), int64(23)\n",
      "memory usage: 117.8 MB\n",
      "time: 16 ms (started: 2023-09-11 23:41:31 +03:00)\n"
     ]
    }
   ],
   "source": [
    "test.info()"
   ]
  },
  {
   "cell_type": "code",
   "execution_count": 21,
   "metadata": {},
   "outputs": [
    {
     "data": {
      "text/plain": [
       "duration           9883\n",
       "src_bytes          7195\n",
       "dst_bytes         21493\n",
       "land                  2\n",
       "wrong_fragment        3\n",
       "                  ...  \n",
       "flag_S1               2\n",
       "flag_S2               2\n",
       "flag_S3               2\n",
       "flag_SF               2\n",
       "flag_SH               2\n",
       "Length: 123, dtype: int64"
      ]
     },
     "execution_count": 21,
     "metadata": {},
     "output_type": "execute_result"
    },
    {
     "name": "stdout",
     "output_type": "stream",
     "text": [
      "time: 5.47 s (started: 2023-09-11 23:41:31 +03:00)\n"
     ]
    }
   ],
   "source": [
    "train.nunique()"
   ]
  },
  {
   "cell_type": "code",
   "execution_count": 22,
   "metadata": {},
   "outputs": [
    {
     "data": {
      "text/plain": [
       "duration           2495\n",
       "src_bytes          3300\n",
       "dst_bytes         10725\n",
       "land                  2\n",
       "wrong_fragment        3\n",
       "                  ...  \n",
       "flag_S1               2\n",
       "flag_S2               2\n",
       "flag_S3               2\n",
       "flag_SF               2\n",
       "flag_SH               2\n",
       "Length: 123, dtype: int64"
      ]
     },
     "execution_count": 22,
     "metadata": {},
     "output_type": "execute_result"
    },
    {
     "name": "stdout",
     "output_type": "stream",
     "text": [
      "time: 609 ms (started: 2023-09-11 23:41:36 +03:00)\n"
     ]
    }
   ],
   "source": [
    "train10.nunique()"
   ]
  },
  {
   "cell_type": "code",
   "execution_count": 23,
   "metadata": {},
   "outputs": [
    {
     "data": {
      "text/plain": [
       "duration           745\n",
       "src_bytes         2504\n",
       "dst_bytes         9202\n",
       "land                 2\n",
       "wrong_fragment       3\n",
       "                  ... \n",
       "flag_S1              2\n",
       "flag_S2              2\n",
       "flag_S3              2\n",
       "flag_SF              2\n",
       "flag_SH              2\n",
       "Length: 123, dtype: int64"
      ]
     },
     "execution_count": 23,
     "metadata": {},
     "output_type": "execute_result"
    },
    {
     "name": "stdout",
     "output_type": "stream",
     "text": [
      "time: 328 ms (started: 2023-09-11 23:41:37 +03:00)\n"
     ]
    }
   ],
   "source": [
    "test.nunique()"
   ]
  },
  {
   "cell_type": "markdown",
   "metadata": {},
   "source": [
    "**Removing `num_outbound_cmds` column from dataset as it has only one value**"
   ]
  },
  {
   "cell_type": "code",
   "execution_count": 24,
   "metadata": {},
   "outputs": [
    {
     "name": "stdout",
     "output_type": "stream",
     "text": [
      "time: 2.25 s (started: 2023-09-11 23:41:37 +03:00)\n"
     ]
    }
   ],
   "source": [
    "train.drop(columns=['num_outbound_cmds'], inplace=True)"
   ]
  },
  {
   "cell_type": "code",
   "execution_count": 25,
   "metadata": {},
   "outputs": [
    {
     "name": "stdout",
     "output_type": "stream",
     "text": [
      "time: 250 ms (started: 2023-09-11 23:41:39 +03:00)\n"
     ]
    }
   ],
   "source": [
    "train10.drop(columns=['num_outbound_cmds'], inplace=True)"
   ]
  },
  {
   "cell_type": "code",
   "execution_count": 26,
   "metadata": {},
   "outputs": [
    {
     "name": "stdout",
     "output_type": "stream",
     "text": [
      "time: 188 ms (started: 2023-09-11 23:41:40 +03:00)\n"
     ]
    }
   ],
   "source": [
    "test.drop(columns=['num_outbound_cmds'], inplace=True)"
   ]
  },
  {
   "cell_type": "markdown",
   "metadata": {},
   "source": [
    "**Converting to NumPy arrays**"
   ]
  },
  {
   "cell_type": "code",
   "execution_count": 27,
   "metadata": {},
   "outputs": [
    {
     "name": "stdout",
     "output_type": "stream",
     "text": [
      "time: 1min 18s (started: 2023-09-11 23:41:40 +03:00)\n"
     ]
    }
   ],
   "source": [
    "x_train = train.to_numpy().astype('float32')\n",
    "y_train = train_label.to_numpy().astype('uint8')\n",
    "\n",
    "x_train10 = train10.to_numpy().astype('float32')\n",
    "y_train10 = train10_label.to_numpy().astype('uint8')\n",
    "\n",
    "x_test = test.to_numpy().astype('float32')\n",
    "y_test = test_label.to_numpy().astype('uint8')"
   ]
  },
  {
   "cell_type": "markdown",
   "metadata": {},
   "source": [
    "**Running PCA on dataset to reduce dimensionality**"
   ]
  },
  {
   "cell_type": "code",
   "execution_count": 28,
   "metadata": {},
   "outputs": [
    {
     "data": {
      "text/plain": [
       "2"
      ]
     },
     "execution_count": 28,
     "metadata": {},
     "output_type": "execute_result"
    },
    {
     "name": "stdout",
     "output_type": "stream",
     "text": [
      "time: 1min 2s (started: 2023-09-11 23:42:59 +03:00)\n"
     ]
    }
   ],
   "source": [
    "pca = PCA()\n",
    "pca.fit(x_train)\n",
    "\n",
    "# Calculate the number of components based on the desired variance ratio\n",
    "explained_variance_ratio_cumsum = pca.explained_variance_ratio_.cumsum()\n",
    "n_components = len(explained_variance_ratio_cumsum[explained_variance_ratio_cumsum < 0.9999]) + 1\n",
    "n_components"
   ]
  },
  {
   "cell_type": "code",
   "execution_count": 29,
   "metadata": {},
   "outputs": [
    {
     "data": {
      "image/png": "[encoded data removed]",
      "text/plain": [
       "<Figure size 600x500 with 1 Axes>"
      ]
     },
     "metadata": {},
     "output_type": "display_data"
    },
    {
     "name": "stdout",
     "output_type": "stream",
     "text": [
      "time: 828 ms (started: 2023-09-11 23:44:02 +03:00)\n"
     ]
    }
   ],
   "source": [
    "# Determine explained variance using explained_variance_ration_ attribute\n",
    "exp_var_pca = pca.explained_variance_ratio_\n",
    "\n",
    "# Cumulative sum of eigenvalues; This will be used to create step plot\n",
    "# for visualizing the variance explained by each principal component.\n",
    "cum_sum_eigenvalues = np.cumsum(exp_var_pca)\n",
    "\n",
    "# Create the visualization plot\n",
    "plt.figure(figsize=(6,5))\n",
    "plt.bar(range(0, len(exp_var_pca)), exp_var_pca, alpha=0.5, align='center', label='Individual explained variance')\n",
    "plt.step(range(0, len(cum_sum_eigenvalues)), cum_sum_eigenvalues, where='mid',label='Cumulative explained variance')\n",
    "\n",
    "plt.xlabel('Principal component index')\n",
    "plt.ylabel('Explained variance ratio')\n",
    "plt.legend(loc='best')\n",
    "plt.tight_layout()\n",
    "plt.show()"
   ]
  },
  {
   "cell_type": "code",
   "execution_count": 30,
   "metadata": {},
   "outputs": [
    {
     "name": "stdout",
     "output_type": "stream",
     "text": [
      "time: 14.4 s (started: 2023-09-11 23:44:02 +03:00)\n"
     ]
    }
   ],
   "source": [
    "x_train = pca.transform(x_train)[:, :n_components]"
   ]
  },
  {
   "cell_type": "code",
   "execution_count": 31,
   "metadata": {},
   "outputs": [
    {
     "name": "stdout",
     "output_type": "stream",
     "text": [
      "time: 672 ms (started: 2023-09-11 23:44:17 +03:00)\n"
     ]
    }
   ],
   "source": [
    "x_train10 = pca.transform(x_train10)[:, :n_components]"
   ]
  },
  {
   "cell_type": "code",
   "execution_count": 32,
   "metadata": {},
   "outputs": [
    {
     "name": "stdout",
     "output_type": "stream",
     "text": [
      "time: 531 ms (started: 2023-09-11 23:44:18 +03:00)\n"
     ]
    }
   ],
   "source": [
    "x_test = pca.transform(x_test)[:, :n_components]"
   ]
  },
  {
   "cell_type": "markdown",
   "metadata": {},
   "source": [
    "**Finalized Dataset**"
   ]
  },
  {
   "cell_type": "code",
   "execution_count": 33,
   "metadata": {},
   "outputs": [
    {
     "data": {
      "text/plain": [
       "array([[-1.6059680e+03,  4.3982875e+04],\n",
       "       [-1.6715563e+03,  3.4348955e+03],\n",
       "       [-1.5985807e+03,  1.3487267e+02],\n",
       "       ...,\n",
       "       [-1.6158412e+03,  2.5168782e+03],\n",
       "       [-1.6155789e+03,  1.4087787e+02],\n",
       "       [-1.6156211e+03,  4.8779068e+00]], dtype=float32)"
      ]
     },
     "execution_count": 33,
     "metadata": {},
     "output_type": "execute_result"
    },
    {
     "name": "stdout",
     "output_type": "stream",
     "text": [
      "time: 31 ms (started: 2023-09-11 23:44:18 +03:00)\n"
     ]
    }
   ],
   "source": [
    "x_train"
   ]
  },
  {
   "cell_type": "code",
   "execution_count": 34,
   "metadata": {},
   "outputs": [
    {
     "data": {
      "text/plain": [
       "array([16, 16, 16, ..., 16, 16, 16], dtype=uint8)"
      ]
     },
     "execution_count": 34,
     "metadata": {},
     "output_type": "execute_result"
    },
    {
     "name": "stdout",
     "output_type": "stream",
     "text": [
      "time: 16 ms (started: 2023-09-11 23:44:18 +03:00)\n"
     ]
    }
   ],
   "source": [
    "y_train"
   ]
  },
  {
   "cell_type": "code",
   "execution_count": 35,
   "metadata": {},
   "outputs": [
    {
     "data": {
      "text/plain": [
       "array([[-1652.27   ,  4356.8896 ],\n",
       "       [-1595.811  ,  -607.12823],\n",
       "       [-1599.5469 ,   243.87297],\n",
       "       ...,\n",
       "       [-1631.5894 ,   106.88285],\n",
       "       [-1543.5894 ,   106.85554],\n",
       "       [-1615.5789 ,   140.87787]], dtype=float32)"
      ]
     },
     "execution_count": 35,
     "metadata": {},
     "output_type": "execute_result"
    },
    {
     "name": "stdout",
     "output_type": "stream",
     "text": [
      "time: 16 ms (started: 2023-09-11 23:44:18 +03:00)\n"
     ]
    }
   ],
   "source": [
    "x_train10"
   ]
  },
  {
   "cell_type": "code",
   "execution_count": 36,
   "metadata": {},
   "outputs": [
    {
     "data": {
      "text/plain": [
       "array([16, 16, 16, ..., 16, 16, 16], dtype=uint8)"
      ]
     },
     "execution_count": 36,
     "metadata": {},
     "output_type": "execute_result"
    },
    {
     "name": "stdout",
     "output_type": "stream",
     "text": [
      "time: 16 ms (started: 2023-09-11 23:44:18 +03:00)\n"
     ]
    }
   ],
   "source": [
    "y_train10"
   ]
  },
  {
   "cell_type": "code",
   "execution_count": 37,
   "metadata": {
    "scrolled": true
   },
   "outputs": [
    {
     "data": {
      "text/plain": [
       "array([[-1729.9166,  -947.0867],\n",
       "       [-1729.9166,  -947.0867],\n",
       "       [-1729.9166,  -947.0867],\n",
       "       ...,\n",
       "       [-1729.9163,  -946.0867],\n",
       "       [-1729.9163,  -946.0867],\n",
       "       [-1729.9163,  -946.0867]], dtype=float32)"
      ]
     },
     "execution_count": 37,
     "metadata": {},
     "output_type": "execute_result"
    },
    {
     "name": "stdout",
     "output_type": "stream",
     "text": [
      "time: 16 ms (started: 2023-09-11 23:44:18 +03:00)\n"
     ]
    }
   ],
   "source": [
    "x_test"
   ]
  },
  {
   "cell_type": "code",
   "execution_count": 38,
   "metadata": {},
   "outputs": [
    {
     "data": {
      "text/plain": [
       "array([16, 16, 16, ..., 16, 16, 16], dtype=uint8)"
      ]
     },
     "execution_count": 38,
     "metadata": {},
     "output_type": "execute_result"
    },
    {
     "name": "stdout",
     "output_type": "stream",
     "text": [
      "time: 16 ms (started: 2023-09-11 23:44:18 +03:00)\n"
     ]
    }
   ],
   "source": [
    "y_test"
   ]
  },
  {
   "cell_type": "markdown",
   "metadata": {
    "id": "VsmeVPrIZak0"
   },
   "source": [
    "## 2. Clustering Using K-Means (Your implementation)\n",
    "\n",
    "We will use K-Means to cluster the network traffic data and identify anomalies. Every data traffic is a feature vector of 41 dimension. We will use this feature representation to do the clustering.\n",
    "\n",
    "• We will change the K of the K-means algorithm between {7, 15, 23, 31, 45} clusters. You will produce different clusters."
   ]
  },
  {
   "cell_type": "code",
   "execution_count": 39,
   "metadata": {},
   "outputs": [
    {
     "name": "stdout",
     "output_type": "stream",
     "text": [
      "time: 15 ms (started: 2023-09-11 23:44:18 +03:00)\n"
     ]
    }
   ],
   "source": [
    "def k_means_clustering(X, k, epsilon=1e-6, num_iters=100):\n",
    "    # Initialize k centroids using k-means++\n",
    "    centroids, _ = kmeans_plusplus(X, n_clusters=k)\n",
    "    \n",
    "    old_centroids = np.copy(centroids)\n",
    "    for t in range(num_iters):\n",
    "        clusters = [set() for i in range(k)]\n",
    "        \n",
    "        # Cluster Assignment Step\n",
    "        labels = np.argmin(np.linalg.norm(X[:, np.newaxis] - centroids, axis=2), axis=1)\n",
    "    \n",
    "        # Centroid Update Step\n",
    "        for i in range(k):\n",
    "            clusters[i] = np.where(labels==i)[0]\n",
    "            if len(clusters[i]) == 0:\n",
    "                centroids[i] = None\n",
    "            else:\n",
    "                centroids[i] = np.mean(X[clusters[i]], axis=0)\n",
    "\n",
    "        if np.linalg.norm(centroids - old_centroids) <= epsilon:\n",
    "            labels = np.argmin(np.linalg.norm(X[:, np.newaxis] - centroids, axis=2), axis=1)\n",
    "            return labels, centroids\n",
    "        else:\n",
    "            old_centroids = np.copy(centroids)\n",
    "    \n",
    "    labels = np.argmin(np.linalg.norm(X[:, np.newaxis] - centroids, axis=2), axis=1)\n",
    "    return labels, centroids"
   ]
  },
  {
   "cell_type": "code",
   "execution_count": 40,
   "metadata": {},
   "outputs": [
    {
     "name": "stdout",
     "output_type": "stream",
     "text": [
      "time: 0 ns (started: 2023-09-11 23:44:18 +03:00)\n"
     ]
    }
   ],
   "source": [
    "def k_means_test(x_test, centroids):\n",
    "    return np.argmin(np.linalg.norm(x_test[:, np.newaxis] - centroids, axis=2), axis=1)"
   ]
  },
  {
   "cell_type": "code",
   "execution_count": 41,
   "metadata": {},
   "outputs": [
    {
     "name": "stdout",
     "output_type": "stream",
     "text": [
      "@ k = 7\n",
      "@ k = 15\n",
      "@ k = 23\n",
      "@ k = 31\n",
      "@ k = 45\n",
      "time: 1min 34s (started: 2023-09-11 23:44:18 +03:00)\n"
     ]
    }
   ],
   "source": [
    "results = dict()\n",
    "for k in [7, 15, 23, 31, 45]:\n",
    "    print(f\"@ k = {k}\")\n",
    "    labels, centroids = k_means_clustering(x_train10, k)\n",
    "    \n",
    "    results[k] = dict()\n",
    "    results[k]['labels'] = labels\n",
    "    results[k]['centroids'] = centroids\n",
    "    results[k]['y_pred'] = k_means_test(x_test, centroids)"
   ]
  },
  {
   "cell_type": "code",
   "execution_count": 42,
   "metadata": {},
   "outputs": [
    {
     "data": {
      "text/plain": [
       "{7: {'labels': array([0, 0, 0, ..., 0, 0, 0], dtype=int64),\n",
       "  'centroids': array([[-9.3010449e+02, -5.3871619e+02],\n",
       "         [ 6.9337370e+08, -2.1633139e+05],\n",
       "         [ 5.1323920e+06, -2.6867097e+03],\n",
       "         [-1.7073772e+02,  5.0085970e+06],\n",
       "         [ 2.2017508e+06, -1.7770908e+03],\n",
       "         [-7.6293127e+02,  1.6952436e+06],\n",
       "         [-1.1510475e+03,  4.3499556e+05]], dtype=float32),\n",
       "  'y_pred': array([0, 0, 0, ..., 0, 0, 0], dtype=int64)},\n",
       " 15: {'labels': array([0, 0, 0, ..., 0, 0, 0], dtype=int64),\n",
       "  'centroids': array([[-1.1930992e+03, -9.0026593e+02],\n",
       "         [ 6.9337370e+08, -2.1633139e+05],\n",
       "         [ 5.1323920e+06, -2.6867097e+03],\n",
       "         [-2.3601170e+02,  5.1492880e+06],\n",
       "         [ 2.2017508e+06, -1.7770908e+03],\n",
       "         [-1.0024232e+03,  7.2742581e+05],\n",
       "         [-6.8741638e+02,  1.7126861e+06],\n",
       "         [ 5.3966234e+04,  6.7127153e+03],\n",
       "         [-1.1566938e+03,  2.9448275e+05],\n",
       "         [ 3.5145416e+02,  3.8830678e+06],\n",
       "         [-1.5509403e+03,  1.3009555e+04],\n",
       "         [-9.5490985e+02,  1.3148995e+06],\n",
       "         [-3.9376953e+02,  2.4649652e+06],\n",
       "         [-1.5432111e+03,  5.5870828e+04],\n",
       "         [ 5.2102088e+05,  2.5719643e+04]], dtype=float32),\n",
       "  'y_pred': array([0, 0, 0, ..., 0, 0, 0], dtype=int64)},\n",
       " 23: {'labels': array([21, 22, 22, ..., 22, 22, 22], dtype=int64),\n",
       "  'centroids': array([[-8.34378784e+02, -1.07893689e+03],\n",
       "         [ 6.93373696e+08, -2.16331391e+05],\n",
       "         [ 5.13239200e+06, -2.68670972e+03],\n",
       "         [-2.36011703e+02,  5.14928800e+06],\n",
       "         [ 2.20175075e+06, -1.77709082e+03],\n",
       "         [-9.18654175e+02,  1.43186225e+06],\n",
       "         [-1.31255957e+03,  2.20044516e+05],\n",
       "         [-1.57900037e+03,  3.07326309e+04],\n",
       "         [ 5.27615352e+04,  6.78349268e+03],\n",
       "         [-9.60695923e+02,  5.51765812e+05],\n",
       "         [-4.23661102e+02,  2.66051200e+06],\n",
       "         [ 5.21020875e+05,  2.57196426e+04],\n",
       "         [ 3.51454163e+02,  3.88306775e+06],\n",
       "         [-1.06774048e+03,  1.05936638e+06],\n",
       "         [-1.56501587e+03,  1.22671729e+04],\n",
       "         [-9.36100220e+02,  7.70146000e+05],\n",
       "         [-1.46984460e+03,  7.58861484e+04],\n",
       "         [-1.00233044e+03,  3.51424469e+05],\n",
       "         [ 1.86714922e+05, -1.08658398e+03],\n",
       "         [-6.99738037e+02,  1.76050362e+06],\n",
       "         [-3.86296631e+02,  2.41607850e+06],\n",
       "         [-1.53651245e+03,  3.42425708e+03],\n",
       "         [-1.76879749e+03, -8.90727173e+02]], dtype=float32),\n",
       "  'y_pred': array([22, 22, 22, ..., 22, 22, 22], dtype=int64)},\n",
       " 31: {'labels': array([24,  0, 27, ..., 27, 27, 27], dtype=int64),\n",
       "  'centroids': array([[-1.78523975e+03, -1.00475476e+03],\n",
       "         [ 6.93373696e+08, -2.16331391e+05],\n",
       "         [ 5.13239200e+06, -2.68670972e+03],\n",
       "         [-2.36011703e+02,  5.14928800e+06],\n",
       "         [ 2.18886050e+06, -1.77309192e+03],\n",
       "         [-8.49670532e+02,  1.51135275e+06],\n",
       "         [-1.01169281e+03,  6.82356500e+05],\n",
       "         [ 5.28237188e+04,  6.80228223e+03],\n",
       "         [-1.32086072e+03,  2.48567422e+05],\n",
       "         [-4.23661102e+02,  2.66051200e+06],\n",
       "         [ 3.51454163e+02,  3.88306775e+06],\n",
       "         [-1.51270923e+03,  5.07297734e+04],\n",
       "         [ 7.13471938e+05,  2.14484922e+05],\n",
       "         [-1.57428833e+03,  1.95350156e+04],\n",
       "         [-1.56035632e+03,  1.09579492e+04],\n",
       "         [-1.03666357e+03,  1.01308675e+06],\n",
       "         [-9.25643982e+02,  3.59067000e+05],\n",
       "         [ 4.93527844e+05, -1.24682520e+03],\n",
       "         [ 1.86714922e+05, -1.08658398e+03],\n",
       "         [-1.42687268e+03,  1.42424406e+05],\n",
       "         [-8.76330444e+02, -1.07999963e+03],\n",
       "         [-6.99738037e+02,  1.76050362e+06],\n",
       "         [-3.86296631e+02,  2.41607850e+06],\n",
       "         [ 9.39036523e+03, -7.82750977e+02],\n",
       "         [-1.57174158e+03,  5.32433936e+03],\n",
       "         [-1.53846985e+03,  8.46173125e+04],\n",
       "         [ 2.49822325e+06, -1.86906909e+03],\n",
       "         [-1.55235718e+03,  1.16956042e+03],\n",
       "         [-9.73841125e+02,  1.36826975e+06],\n",
       "         [-9.24412903e+02,  4.94945281e+05],\n",
       "         [-1.58966113e+03,  3.14465586e+04]], dtype=float32),\n",
       "  'y_pred': array([0, 0, 0, ..., 0, 0, 0], dtype=int64)},\n",
       " 45: {'labels': array([17, 38, 37, ..., 37, 37, 37], dtype=int64),\n",
       "  'centroids': array([[-7.7885260e+02, -1.0803260e+03],\n",
       "         [ 6.9337370e+08, -2.1633139e+05],\n",
       "         [ 5.1323920e+06, -2.6867097e+03],\n",
       "         [-2.3601170e+02,  5.1492880e+06],\n",
       "         [ 2.1888605e+06, -1.7730919e+03],\n",
       "         [-9.7384113e+02,  1.3682698e+06],\n",
       "         [-1.0184324e+03,  6.5771956e+05],\n",
       "         [ 3.5145416e+02,  3.8830678e+06],\n",
       "         [ 5.2717531e+04,  7.0956836e+03],\n",
       "         [-4.2366110e+02,  2.6605120e+06],\n",
       "         [-1.3736981e+03,  2.6243312e+05],\n",
       "         [ 4.9352784e+05, -1.2468252e+03],\n",
       "         [-1.5162570e+03,  1.1625825e+05],\n",
       "         [-1.5613745e+03,  1.3150234e+04],\n",
       "         [-1.5878656e+03,  3.7441852e+04],\n",
       "         [-6.8820544e+02,  1.8856948e+06],\n",
       "         [-9.1880591e+02,  1.0494898e+06],\n",
       "         [-1.5715660e+03,  5.3409248e+03],\n",
       "         [ 1.7208595e+05, -1.1470428e+03],\n",
       "         [-9.5258191e+02,  5.4127375e+05],\n",
       "         [-1.8204707e+03, -1.0798243e+03],\n",
       "         [-3.8240173e+02,  2.4573458e+06],\n",
       "         [ 8.5312676e+03, -8.0878644e+02],\n",
       "         [-9.5462939e+02,  8.2216525e+05],\n",
       "         [-8.4967053e+02,  1.5113528e+06],\n",
       "         [-1.4784264e+03,  5.4524117e+04],\n",
       "         [-1.0663973e+03,  3.5373894e+05],\n",
       "         [-1.5585247e+03,  2.4111409e+03],\n",
       "         [ 2.4982232e+06, -1.8690691e+03],\n",
       "         [ 7.1347194e+05,  2.1448492e+05],\n",
       "         [ 8.9629617e+04, -1.2830379e+02],\n",
       "         [-1.2335771e+03,  1.7954620e+05],\n",
       "         [-1.5619001e+03,  8.8229717e+03],\n",
       "         [-1.5793411e+03,  2.6870094e+04],\n",
       "         [ 2.4888812e+05, -8.2963373e+02],\n",
       "         [-1.2109005e+03,  9.8476619e+05],\n",
       "         [-7.0550427e+02,  1.6979082e+06],\n",
       "         [-1.5555027e+03,  5.0620099e+02],\n",
       "         [-1.3725232e+03, -9.7532672e+02],\n",
       "         [-1.5803250e+03,  1.9067818e+04],\n",
       "         [-7.1694653e+02,  4.6212231e+05],\n",
       "         [-9.7422528e+02,  1.1372591e+06],\n",
       "         [-1.5434650e+03,  7.7944289e+04],\n",
       "         [ 3.1368113e+04, -7.2774445e+01],\n",
       "         [-3.9798129e+02,  2.2922768e+06]], dtype=float32),\n",
       "  'y_pred': array([20, 20, 20, ..., 20, 20, 20], dtype=int64)}}"
      ]
     },
     "execution_count": 42,
     "metadata": {},
     "output_type": "execute_result"
    },
    {
     "name": "stdout",
     "output_type": "stream",
     "text": [
      "time: 16 ms (started: 2023-09-11 23:45:53 +03:00)\n"
     ]
    }
   ],
   "source": [
    "results"
   ]
  },
  {
   "cell_type": "markdown",
   "metadata": {
    "id": "DCSL3XJ4ZvNQ"
   },
   "source": [
    "## 3. Normalized Cut (Your implementation)\n",
    "\n",
    "Here, we will use Normalized cut algorithm to cluster the network traffic data and identify anomalies. For this experiments we need to decrease the size of the dataset for it to run successfully.\n",
    "\n",
    "• Set the random seed across all experiments to 42.\n",
    "\n",
    "• Split the training dataset used using train test split in sklearn, and take\n",
    "only 0.5% of the data in the new training set. Be sure you set stratify = True.\n",
    "\n",
    "• Apply Normalized Cut algorithm to the preprocessed data to cluster the data into 23 clusters.\n",
    "\n",
    "• Rerun the experiments on K-Means when K = 23.\n",
    "\n",
    "• Compare the results of K-Means and Normalized Cut clustering in terms of the number of detected anomalies and their characteristics."
   ]
  },
  {
   "cell_type": "code",
   "execution_count": 43,
   "metadata": {
    "id": "Yv-wcwp1Z6zC"
   },
   "outputs": [
    {
     "name": "stdout",
     "output_type": "stream",
     "text": [
      "time: 16 ms (started: 2023-09-11 23:45:53 +03:00)\n"
     ]
    }
   ],
   "source": [
    "def normalised_cut(X, k_clusters, sim_measure='rbf'):\n",
    "    # Find Similarity Matrix A using specified similarity measure\n",
    "    if sim_measure == 'rbf':\n",
    "        g_optimal = 1 / np.mean(pdist(X))\n",
    "        A = rbf_kernel(X, gamma=g_optimal)\n",
    "    elif sim_measure == 'knn':\n",
    "        k_optimal = int(np.round(np.sqrt(X.shape[0])))\n",
    "        knn = NearestNeighbors(n_neighbors=151).fit(X)\n",
    "        A = knn.kneighbors_graph(X).toarray()\n",
    "    \n",
    "    # Find Degree Matrix Δ\n",
    "    delta = np.diag(A.sum(axis=1))\n",
    "    \n",
    "    # Calculate the Laplacian Matrix L\n",
    "    L = delta - A\n",
    "    \n",
    "    # Calculate the normalized asymmetric Matrix B\n",
    "    B = np.dot(np.linalg.inv(delta), L)\n",
    "    \n",
    "    # Extract eigenvalues and eigenvectors of B\n",
    "    lambdas, U = np.linalg.eig(B)\n",
    "    indices = lambdas.argsort()\n",
    "    lambdas = np.real(lambdas[indices])\n",
    "    U = np.real(U[:, indices])\n",
    "    \n",
    "    # Run K-Means on smallest k eigenvectors\n",
    "    kmeans = KMeans(n_clusters=k_clusters, n_init=100)\n",
    "    kmeans.fit(U[:, 1:k_clusters+1])\n",
    "    \n",
    "    return kmeans.labels_"
   ]
  },
  {
   "cell_type": "code",
   "execution_count": 44,
   "metadata": {},
   "outputs": [
    {
     "name": "stdout",
     "output_type": "stream",
     "text": [
      "time: 2.14 s (started: 2023-09-11 23:45:53 +03:00)\n"
     ]
    }
   ],
   "source": [
    "x_train2, _, y_train2, _ = train_test_split(x_train, y_train, train_size=0.0025, random_state=42, stratify=y_train)"
   ]
  },
  {
   "cell_type": "code",
   "execution_count": 45,
   "metadata": {},
   "outputs": [
    {
     "data": {
      "text/plain": [
       "(12246, 2)"
      ]
     },
     "execution_count": 45,
     "metadata": {},
     "output_type": "execute_result"
    },
    {
     "name": "stdout",
     "output_type": "stream",
     "text": [
      "time: 0 ns (started: 2023-09-11 23:45:55 +03:00)\n"
     ]
    }
   ],
   "source": [
    "x_train2.shape"
   ]
  },
  {
   "cell_type": "code",
   "execution_count": 46,
   "metadata": {},
   "outputs": [
    {
     "data": {
      "text/plain": [
       "(12246,)"
      ]
     },
     "execution_count": 46,
     "metadata": {},
     "output_type": "execute_result"
    },
    {
     "name": "stdout",
     "output_type": "stream",
     "text": [
      "time: 0 ns (started: 2023-09-11 23:45:55 +03:00)\n"
     ]
    }
   ],
   "source": [
    "y_train2.shape"
   ]
  },
  {
   "cell_type": "code",
   "execution_count": 47,
   "metadata": {},
   "outputs": [
    {
     "data": {
      "text/plain": [
       "array([0, 0, 0, ..., 0, 0, 0])"
      ]
     },
     "execution_count": 47,
     "metadata": {},
     "output_type": "execute_result"
    },
    {
     "name": "stdout",
     "output_type": "stream",
     "text": [
      "time: 20min 1s (started: 2023-09-11 23:45:55 +03:00)\n"
     ]
    }
   ],
   "source": [
    "nc_labels = normalised_cut(x_train2, 23)\n",
    "nc_labels"
   ]
  },
  {
   "cell_type": "code",
   "execution_count": 48,
   "metadata": {},
   "outputs": [
    {
     "data": {
      "text/plain": [
       "array([ 1,  1,  9, ..., 18,  7,  1])"
      ]
     },
     "execution_count": 48,
     "metadata": {},
     "output_type": "execute_result"
    },
    {
     "name": "stdout",
     "output_type": "stream",
     "text": [
      "time: 8min 16s (started: 2023-09-12 00:05:57 +03:00)\n"
     ]
    }
   ],
   "source": [
    "nc_labels_knn = normalised_cut(x_train2, 23, sim_measure='knn')\n",
    "nc_labels_knn"
   ]
  },
  {
   "cell_type": "markdown",
   "metadata": {},
   "source": [
    "**K-Means Clustering vs. Normalized Cut**"
   ]
  },
  {
   "cell_type": "code",
   "execution_count": 49,
   "metadata": {},
   "outputs": [
    {
     "data": {
      "text/plain": [
       "array([[     0, 293220],\n",
       "       [     1,      1],\n",
       "       [     2,     59],\n",
       "       [     3,     16],\n",
       "       [     4,     24],\n",
       "       [     5,      9],\n",
       "       [     6,     55],\n",
       "       [     7,   1616],\n",
       "       [     8,   2314],\n",
       "       [     9,     16],\n",
       "       [    10,      1],\n",
       "       [    11,      8],\n",
       "       [    12,      2],\n",
       "       [    13,      7],\n",
       "       [    14,   5499],\n",
       "       [    15,      7],\n",
       "       [    16,    220],\n",
       "       [    17,     16],\n",
       "       [    18,     21],\n",
       "       [    19,      3],\n",
       "       [    20,      4],\n",
       "       [    21,  15391],\n",
       "       [    22, 175512]], dtype=int64)"
      ]
     },
     "execution_count": 49,
     "metadata": {},
     "output_type": "execute_result"
    },
    {
     "name": "stdout",
     "output_type": "stream",
     "text": [
      "time: 47 ms (started: 2023-09-12 00:14:13 +03:00)\n"
     ]
    }
   ],
   "source": [
    "np_value_counts(results[23]['labels'])"
   ]
  },
  {
   "cell_type": "code",
   "execution_count": 50,
   "metadata": {},
   "outputs": [
    {
     "data": {
      "text/plain": [
       "array([[    0, 12158],\n",
       "       [    1,     2],\n",
       "       [    2,     6],\n",
       "       [    3,     2],\n",
       "       [    4,     5],\n",
       "       [    5,     4],\n",
       "       [    6,     3],\n",
       "       [    7,     2],\n",
       "       [    8,     4],\n",
       "       [    9,     2],\n",
       "       [   10,     2],\n",
       "       [   11,     3],\n",
       "       [   12,     1],\n",
       "       [   13,     3],\n",
       "       [   14,     3],\n",
       "       [   15,     4],\n",
       "       [   16,     4],\n",
       "       [   17,     4],\n",
       "       [   18,     5],\n",
       "       [   19,     3],\n",
       "       [   20,     1],\n",
       "       [   21,    22],\n",
       "       [   22,     3]], dtype=int64)"
      ]
     },
     "execution_count": 50,
     "metadata": {},
     "output_type": "execute_result"
    },
    {
     "name": "stdout",
     "output_type": "stream",
     "text": [
      "time: 16 ms (started: 2023-09-12 00:14:13 +03:00)\n"
     ]
    }
   ],
   "source": [
    "np_value_counts(nc_labels)"
   ]
  },
  {
   "cell_type": "code",
   "execution_count": 51,
   "metadata": {},
   "outputs": [
    {
     "data": {
      "text/plain": [
       "array([[   0,  824],\n",
       "       [   1, 6345],\n",
       "       [   2,  100],\n",
       "       [   3,   43],\n",
       "       [   4,   29],\n",
       "       [   5, 1080],\n",
       "       [   6,   42],\n",
       "       [   7,  681],\n",
       "       [   8,   94],\n",
       "       [   9,  471],\n",
       "       [  10,  872],\n",
       "       [  11,   42],\n",
       "       [  12,   78],\n",
       "       [  13,  248],\n",
       "       [  14,  354],\n",
       "       [  15,  139],\n",
       "       [  16,   48],\n",
       "       [  17,   35],\n",
       "       [  18,  462],\n",
       "       [  19,   40],\n",
       "       [  20,   93],\n",
       "       [  21,   48],\n",
       "       [  22,   78]], dtype=int64)"
      ]
     },
     "execution_count": 51,
     "metadata": {},
     "output_type": "execute_result"
    },
    {
     "name": "stdout",
     "output_type": "stream",
     "text": [
      "time: 0 ns (started: 2023-09-12 00:14:13 +03:00)\n"
     ]
    }
   ],
   "source": [
    "np_value_counts(nc_labels_knn)"
   ]
  },
  {
   "cell_type": "markdown",
   "metadata": {
    "id": "bEJ98v9YZ8p6"
   },
   "source": [
    "## 4. Evaluation\n",
    "\n",
    "We will evaluate models based on their ability to detect network anomalies accurately. You will be required to use the following metrics to evaluate the quality of their models:\n",
    "\n",
    "• Precision\n",
    "\n",
    "• Recall\n",
    "\n",
    "• F1 score\n",
    "\n",
    "• Conditional Entropy"
   ]
  },
  {
   "cell_type": "markdown",
   "metadata": {},
   "source": [
    "**Running K-Means on `x_train2` for evaluation purposes**"
   ]
  },
  {
   "cell_type": "code",
   "execution_count": 52,
   "metadata": {},
   "outputs": [
    {
     "name": "stdout",
     "output_type": "stream",
     "text": [
      "@ k = 7\n",
      "@ k = 15\n",
      "@ k = 23\n",
      "@ k = 31\n",
      "@ k = 45\n",
      "time: 2.91 s (started: 2023-09-12 00:14:13 +03:00)\n"
     ]
    }
   ],
   "source": [
    "km_results = dict()\n",
    "for k in [7, 15, 23, 31, 45]:\n",
    "    print(f\"@ k = {k}\")\n",
    "    labels, centroids = k_means_clustering(x_train2, k)\n",
    "    \n",
    "    km_results[k] = dict()\n",
    "    km_results[k]['labels'] = labels\n",
    "    km_results[k]['centroids'] = centroids\n",
    "    km_results[k]['y_pred'] = k_means_test(x_test, centroids)"
   ]
  },
  {
   "cell_type": "markdown",
   "metadata": {
    "id": "317-bSN_Z_8_"
   },
   "source": [
    "### Precision"
   ]
  },
  {
   "cell_type": "code",
   "execution_count": 53,
   "metadata": {},
   "outputs": [
    {
     "name": "stdout",
     "output_type": "stream",
     "text": [
      "time: 0 ns (started: 2023-09-12 00:14:16 +03:00)\n"
     ]
    }
   ],
   "source": [
    "def precision_per_cluster(y_true, y_pred):\n",
    "    cont_mat = contingency_matrix(y_true, y_pred).T\n",
    "    return np.max(cont_mat, axis=1) / np.sum(cont_mat, axis=1)"
   ]
  },
  {
   "cell_type": "code",
   "execution_count": 54,
   "metadata": {},
   "outputs": [
    {
     "name": "stdout",
     "output_type": "stream",
     "text": [
      "time: 0 ns (started: 2023-09-12 00:14:16 +03:00)\n"
     ]
    }
   ],
   "source": [
    "def overall_precision(y_true, y_pred):\n",
    "    cont_mat = contingency_matrix(y_true, y_pred).T\n",
    "    p_per_c = precision_per_cluster(y_true, y_pred)\n",
    "    return np.sum(np.multiply(np.sum(cont_mat, axis=1) / np.sum(cont_mat), p_per_c))"
   ]
  },
  {
   "cell_type": "markdown",
   "metadata": {},
   "source": [
    "**K-Means Clustering**"
   ]
  },
  {
   "cell_type": "code",
   "execution_count": 55,
   "metadata": {},
   "outputs": [
    {
     "name": "stdout",
     "output_type": "stream",
     "text": [
      "@ k = 7:\t0.581740976645435\n",
      "@ k = 15:\t0.6482116609505144\n",
      "@ k = 23:\t0.8864118895966028\n",
      "@ k = 31:\t0.8948227992813981\n",
      "@ k = 45:\t0.921607055365017\n",
      "time: 31 ms (started: 2023-09-12 00:14:16 +03:00)\n"
     ]
    }
   ],
   "source": [
    "for k in [7, 15, 23, 31, 45]:\n",
    "    print(f\"@ k = {k}:\\t{overall_precision(y_train2, km_results[k]['labels'])}\")"
   ]
  },
  {
   "cell_type": "markdown",
   "metadata": {},
   "source": [
    "**Normalised Cut**"
   ]
  },
  {
   "cell_type": "code",
   "execution_count": 56,
   "metadata": {},
   "outputs": [
    {
     "data": {
      "text/plain": [
       "0.5804344275681856"
      ]
     },
     "execution_count": 56,
     "metadata": {},
     "output_type": "execute_result"
    },
    {
     "name": "stdout",
     "output_type": "stream",
     "text": [
      "time: 0 ns (started: 2023-09-12 00:14:16 +03:00)\n"
     ]
    }
   ],
   "source": [
    "overall_precision(y_train2, nc_labels)"
   ]
  },
  {
   "cell_type": "code",
   "execution_count": 57,
   "metadata": {},
   "outputs": [
    {
     "data": {
      "text/plain": [
       "0.9273232075779844"
      ]
     },
     "execution_count": 57,
     "metadata": {},
     "output_type": "execute_result"
    },
    {
     "name": "stdout",
     "output_type": "stream",
     "text": [
      "time: 16 ms (started: 2023-09-12 00:14:16 +03:00)\n"
     ]
    }
   ],
   "source": [
    "overall_precision(y_train2, nc_labels_knn)"
   ]
  },
  {
   "cell_type": "markdown",
   "metadata": {},
   "source": [
    "### Recall"
   ]
  },
  {
   "cell_type": "code",
   "execution_count": 58,
   "metadata": {},
   "outputs": [
    {
     "name": "stdout",
     "output_type": "stream",
     "text": [
      "time: 0 ns (started: 2023-09-12 00:14:16 +03:00)\n"
     ]
    }
   ],
   "source": [
    "def recall_per_cluster(y_true, y_pred):\n",
    "    cont_mat = contingency_matrix(y_true, y_pred).T\n",
    "    partition_fraction = np.sum(cont_mat[:, np.argmax(cont_mat, axis=1)], axis=0)\n",
    "    return np.max(cont_mat, axis=1) / partition_fraction"
   ]
  },
  {
   "cell_type": "code",
   "execution_count": 59,
   "metadata": {},
   "outputs": [
    {
     "name": "stdout",
     "output_type": "stream",
     "text": [
      "time: 0 ns (started: 2023-09-12 00:14:16 +03:00)\n"
     ]
    }
   ],
   "source": [
    "def overall_recall(y_true, y_pred):\n",
    "    cont_mat = contingency_matrix(y_true, y_pred).T\n",
    "    r_per_c = recall_per_cluster(y_true, y_pred)\n",
    "#     partition_fraction = np.sum(cont_mat[:, np.argmax(cont_mat, axis=1)], axis=0)\n",
    "#     return np.sum(np.multiply(partition_fraction / np.sum(cont_mat), r_per_c))\n",
    "    return np.sum(np.multiply(np.sum(cont_mat, axis=1) / np.sum(cont_mat), r_per_c))"
   ]
  },
  {
   "cell_type": "markdown",
   "metadata": {},
   "source": [
    "**K-Means Clustering**"
   ]
  },
  {
   "cell_type": "code",
   "execution_count": 60,
   "metadata": {},
   "outputs": [
    {
     "name": "stdout",
     "output_type": "stream",
     "text": [
      "@ k = 7:\t0.9918638734703205\n",
      "@ k = 15:\t0.9384943723120475\n",
      "@ k = 23:\t0.9182770094459775\n",
      "@ k = 31:\t0.7191305229368276\n",
      "@ k = 45:\t0.700478344682803\n",
      "time: 31 ms (started: 2023-09-12 00:14:16 +03:00)\n"
     ]
    }
   ],
   "source": [
    "for k in [7, 15, 23, 31, 45]:\n",
    "    print(f\"@ k = {k}:\\t{overall_recall(y_train2, km_results[k]['labels'])}\")"
   ]
  },
  {
   "cell_type": "markdown",
   "metadata": {},
   "source": [
    "**Normalised Cut**"
   ]
  },
  {
   "cell_type": "code",
   "execution_count": 61,
   "metadata": {},
   "outputs": [
    {
     "data": {
      "text/plain": [
       "0.9928383569930461"
      ]
     },
     "execution_count": 61,
     "metadata": {},
     "output_type": "execute_result"
    },
    {
     "name": "stdout",
     "output_type": "stream",
     "text": [
      "time: 16 ms (started: 2023-09-12 00:14:16 +03:00)\n"
     ]
    }
   ],
   "source": [
    "overall_recall(y_train2, nc_labels)"
   ]
  },
  {
   "cell_type": "code",
   "execution_count": 62,
   "metadata": {},
   "outputs": [
    {
     "data": {
      "text/plain": [
       "0.5149591559179939"
      ]
     },
     "execution_count": 62,
     "metadata": {},
     "output_type": "execute_result"
    },
    {
     "name": "stdout",
     "output_type": "stream",
     "text": [
      "time: 16 ms (started: 2023-09-12 00:14:16 +03:00)\n"
     ]
    }
   ],
   "source": [
    "overall_recall(y_train2, nc_labels_knn)"
   ]
  },
  {
   "cell_type": "markdown",
   "metadata": {},
   "source": [
    "### F1 Score"
   ]
  },
  {
   "cell_type": "code",
   "execution_count": 63,
   "metadata": {},
   "outputs": [
    {
     "name": "stdout",
     "output_type": "stream",
     "text": [
      "time: 0 ns (started: 2023-09-12 00:14:16 +03:00)\n"
     ]
    }
   ],
   "source": [
    "def overall_f1_score(y_true, y_pred):\n",
    "    p_per_c = precision_per_cluster(y_true, y_pred)\n",
    "    r_per_c = recall_per_cluster(y_true, y_pred)\n",
    "    return np.mean(2 * np.multiply(p_per_c, r_per_c) / (p_per_c + r_per_c))"
   ]
  },
  {
   "cell_type": "markdown",
   "metadata": {},
   "source": [
    "**K-Means Clustering**"
   ]
  },
  {
   "cell_type": "code",
   "execution_count": 64,
   "metadata": {},
   "outputs": [
    {
     "name": "stdout",
     "output_type": "stream",
     "text": [
      "@ k = 7:\t0.18774545799751638\n",
      "@ k = 15:\t0.1877798483076511\n",
      "@ k = 23:\t0.18034522145695006\n",
      "@ k = 31:\t0.144652166159433\n",
      "@ k = 45:\t0.10652377057796182\n",
      "time: 16 ms (started: 2023-09-12 00:14:16 +03:00)\n"
     ]
    }
   ],
   "source": [
    "for k in [7, 15, 23, 31, 45]:\n",
    "    print(f\"@ k = {k}:\\t{overall_f1_score(y_train2, km_results[k]['labels'])}\")"
   ]
  },
  {
   "cell_type": "markdown",
   "metadata": {},
   "source": [
    "**Normalised Cut**"
   ]
  },
  {
   "cell_type": "code",
   "execution_count": 65,
   "metadata": {},
   "outputs": [
    {
     "data": {
      "text/plain": [
       "0.03496579931651307"
      ]
     },
     "execution_count": 65,
     "metadata": {},
     "output_type": "execute_result"
    },
    {
     "name": "stdout",
     "output_type": "stream",
     "text": [
      "time: 15 ms (started: 2023-09-12 00:14:16 +03:00)\n"
     ]
    }
   ],
   "source": [
    "overall_f1_score(y_train2, nc_labels)"
   ]
  },
  {
   "cell_type": "code",
   "execution_count": 66,
   "metadata": {},
   "outputs": [
    {
     "data": {
      "text/plain": [
       "0.17394778769659425"
      ]
     },
     "execution_count": 66,
     "metadata": {},
     "output_type": "execute_result"
    },
    {
     "name": "stdout",
     "output_type": "stream",
     "text": [
      "time: 0 ns (started: 2023-09-12 00:14:16 +03:00)\n"
     ]
    }
   ],
   "source": [
    "overall_f1_score(y_train2, nc_labels_knn)"
   ]
  },
  {
   "cell_type": "markdown",
   "metadata": {},
   "source": [
    "### Conditional Entropy"
   ]
  },
  {
   "cell_type": "code",
   "execution_count": 67,
   "metadata": {},
   "outputs": [
    {
     "name": "stdout",
     "output_type": "stream",
     "text": [
      "time: 16 ms (started: 2023-09-12 00:14:16 +03:00)\n"
     ]
    }
   ],
   "source": [
    "def entropy(x):\n",
    "    with np.errstate(all='ignore'):\n",
    "        return np.nan_to_num(-x * np.log(x))"
   ]
  },
  {
   "cell_type": "code",
   "execution_count": 68,
   "metadata": {},
   "outputs": [
    {
     "name": "stdout",
     "output_type": "stream",
     "text": [
      "time: 16 ms (started: 2023-09-12 00:14:16 +03:00)\n"
     ]
    }
   ],
   "source": [
    "def conditional_entropy(y_true, y_pred):\n",
    "    cont_mat = contingency_matrix(y_true, y_pred).T\n",
    "    n = np.sum(cont_mat)\n",
    "    p_ci = np.sum(cont_mat, axis=1) / n\n",
    "    p_ij = cont_mat / np.sum(cont_mat, axis=1)[:, np.newaxis]\n",
    "    H_T_Ci = np.sum(entropy(p_ij), axis=1)\n",
    "    return np.sum(np.multiply(p_ci, H_T_Ci))"
   ]
  },
  {
   "cell_type": "markdown",
   "metadata": {},
   "source": [
    "**K-Means Clustering**"
   ]
  },
  {
   "cell_type": "code",
   "execution_count": 69,
   "metadata": {},
   "outputs": [
    {
     "name": "stdout",
     "output_type": "stream",
     "text": [
      "@ k = 7:\t1.016\t(worst = 1.946)\n",
      "@ k = 15:\t0.893\t(worst = 2.708)\n",
      "@ k = 23:\t0.324\t(worst = 3.135)\n",
      "@ k = 31:\t0.316\t(worst = 3.434)\n",
      "@ k = 45:\t0.254\t(worst = 3.807)\n",
      "time: 31 ms (started: 2023-09-12 00:14:16 +03:00)\n"
     ]
    }
   ],
   "source": [
    "for k in [7, 15, 23, 31, 45]:\n",
    "    print(f\"@ k = {k}:\\t{conditional_entropy(y_train2, km_results[k]['labels']):.3f}\\t(worst = {np.log(k):.3f})\")"
   ]
  },
  {
   "cell_type": "markdown",
   "metadata": {},
   "source": [
    "**Normalised Cut**"
   ]
  },
  {
   "cell_type": "code",
   "execution_count": 70,
   "metadata": {},
   "outputs": [
    {
     "name": "stdout",
     "output_type": "stream",
     "text": [
      "1.019\t(worst = 3.807)\n",
      "time: 16 ms (started: 2023-09-12 00:14:16 +03:00)\n"
     ]
    }
   ],
   "source": [
    "print(f\"{conditional_entropy(y_train2, nc_labels):.3f}\\t(worst = {np.log(k):.3f})\")"
   ]
  },
  {
   "cell_type": "code",
   "execution_count": 71,
   "metadata": {
    "scrolled": true
   },
   "outputs": [
    {
     "name": "stdout",
     "output_type": "stream",
     "text": [
      "0.268\t(worst = 3.807)\n",
      "time: 15 ms (started: 2023-09-12 00:14:16 +03:00)\n"
     ]
    }
   ],
   "source": [
    "print(f\"{conditional_entropy(y_train2, nc_labels_knn):.3f}\\t(worst = {np.log(k):.3f})\")"
   ]
  },
  {
   "cell_type": "markdown",
   "metadata": {
    "id": "-_SCpBsOaIS_"
   },
   "source": [
    "## 5. New Clustering Algorithm (Your implementation)\n",
    "\n",
    "Your goal is to get to know to other clustering techniques and how they are working and differ than K-Means and Normalized cut. Choose any clustering technique of your own choice, implement it and repeat the above experiments."
   ]
  },
  {
   "cell_type": "markdown",
   "metadata": {},
   "source": [
    "### DBSCAN (Density-based spatial clustering of applications with noise)"
   ]
  },
  {
   "cell_type": "code",
   "execution_count": 72,
   "metadata": {},
   "outputs": [
    {
     "name": "stdout",
     "output_type": "stream",
     "text": [
      "time: 0 ns (started: 2023-09-12 00:14:17 +03:00)\n"
     ]
    }
   ],
   "source": [
    "def dbscan(X, epsilon, min_pts):\n",
    "    # Calculate pairwise distances between all samples\n",
    "    dists = cdist(X, X)\n",
    "\n",
    "    # Initialize labels and cluster ID\n",
    "    labels = np.full(X.shape[0], -1)\n",
    "    cluster_id = 0\n",
    "\n",
    "    # Loop over all samples\n",
    "    for i in range(X.shape[0]):\n",
    "        if labels[i] != -1:\n",
    "            # Sample already assigned to a cluster\n",
    "            continue\n",
    "\n",
    "        # Find all samples within epsilon distance from current sample\n",
    "        neighbors = np.where(dists[i] <= epsilon)[0]\n",
    "\n",
    "        if len(neighbors) < min_pts:\n",
    "            # Sample is noise\n",
    "            labels[i] = 0\n",
    "            continue\n",
    "\n",
    "        # Expand the cluster starting from the current sample\n",
    "        cluster_id += 1\n",
    "        labels[i] = cluster_id\n",
    "\n",
    "        # Loop over all neighbors\n",
    "        for j in neighbors:\n",
    "            if labels[j] == -1:\n",
    "                # Neighbor not yet assigned to a cluster\n",
    "                labels[j] = cluster_id\n",
    "\n",
    "                # Find all samples within epsilon distance from this neighbor\n",
    "                new_neighbors = np.where(dists[j] <= epsilon)[0]\n",
    "\n",
    "                if len(new_neighbors) >= min_pts:\n",
    "                    # Neighbor is a core point, expand the cluster from this point\n",
    "                    neighbors = np.concatenate([neighbors, new_neighbors])\n",
    "\n",
    "            elif labels[j] == 0:\n",
    "                # Neighbor previously identified as noise, add to current cluster\n",
    "                labels[j] = cluster_id\n",
    "\n",
    "    return labels"
   ]
  },
  {
   "cell_type": "code",
   "execution_count": 73,
   "metadata": {},
   "outputs": [
    {
     "data": {
      "text/plain": [
       "array([1, 1, 2, ..., 3, 0, 1])"
      ]
     },
     "execution_count": 73,
     "metadata": {},
     "output_type": "execute_result"
    },
    {
     "name": "stdout",
     "output_type": "stream",
     "text": [
      "time: 4min 48s (started: 2023-09-12 00:14:17 +03:00)\n"
     ]
    }
   ],
   "source": [
    "dbscan_labels = dbscan(x_train2, 1, 40)\n",
    "dbscan_labels"
   ]
  },
  {
   "cell_type": "code",
   "execution_count": 74,
   "metadata": {},
   "outputs": [
    {
     "data": {
      "text/plain": [
       "9"
      ]
     },
     "execution_count": 74,
     "metadata": {},
     "output_type": "execute_result"
    },
    {
     "name": "stdout",
     "output_type": "stream",
     "text": [
      "time: 0 ns (started: 2023-09-12 00:19:05 +03:00)\n"
     ]
    }
   ],
   "source": [
    "num_clusters = len(np.unique(dbscan_labels))\n",
    "num_clusters"
   ]
  },
  {
   "cell_type": "markdown",
   "metadata": {},
   "source": [
    "**Precision**"
   ]
  },
  {
   "cell_type": "code",
   "execution_count": 75,
   "metadata": {},
   "outputs": [
    {
     "data": {
      "text/plain": [
       "0.9774620284174423"
      ]
     },
     "execution_count": 75,
     "metadata": {},
     "output_type": "execute_result"
    },
    {
     "name": "stdout",
     "output_type": "stream",
     "text": [
      "time: 0 ns (started: 2023-09-12 00:19:05 +03:00)\n"
     ]
    }
   ],
   "source": [
    "overall_precision(y_train2, dbscan_labels)"
   ]
  },
  {
   "cell_type": "markdown",
   "metadata": {},
   "source": [
    "**Recall**"
   ]
  },
  {
   "cell_type": "code",
   "execution_count": 76,
   "metadata": {},
   "outputs": [
    {
     "data": {
      "text/plain": [
       "0.7758737135611674"
      ]
     },
     "execution_count": 76,
     "metadata": {},
     "output_type": "execute_result"
    },
    {
     "name": "stdout",
     "output_type": "stream",
     "text": [
      "time: 0 ns (started: 2023-09-12 00:19:05 +03:00)\n"
     ]
    }
   ],
   "source": [
    "overall_recall(y_train2, dbscan_labels)"
   ]
  },
  {
   "cell_type": "markdown",
   "metadata": {},
   "source": [
    "**F1 Score**"
   ]
  },
  {
   "cell_type": "code",
   "execution_count": 77,
   "metadata": {},
   "outputs": [
    {
     "data": {
      "text/plain": [
       "0.36410697273731746"
      ]
     },
     "execution_count": 77,
     "metadata": {},
     "output_type": "execute_result"
    },
    {
     "name": "stdout",
     "output_type": "stream",
     "text": [
      "time: 0 ns (started: 2023-09-12 00:19:05 +03:00)\n"
     ]
    }
   ],
   "source": [
    "overall_f1_score(y_train2, dbscan_labels)"
   ]
  },
  {
   "cell_type": "markdown",
   "metadata": {},
   "source": [
    "**Conditional Entropy**"
   ]
  },
  {
   "cell_type": "code",
   "execution_count": 78,
   "metadata": {},
   "outputs": [
    {
     "name": "stdout",
     "output_type": "stream",
     "text": [
      "0.107\t(worst = 2.197)\n",
      "time: 0 ns (started: 2023-09-12 00:19:05 +03:00)\n"
     ]
    }
   ],
   "source": [
    "print(f\"{conditional_entropy(y_train2, dbscan_labels):.3f}\\t(worst = {np.log(len(np.unique(dbscan_labels))):.3f})\")"
   ]
  },
  {
   "cell_type": "markdown",
   "metadata": {},
   "source": [
    "## Displaying Plots"
   ]
  },
  {
   "cell_type": "code",
   "execution_count": 83,
   "metadata": {},
   "outputs": [
    {
     "name": "stdout",
     "output_type": "stream",
     "text": [
      "time: 0 ns (started: 2023-09-12 00:31:30 +03:00)\n"
     ]
    }
   ],
   "source": [
    "def display_plot(X, labels, plot_style, title=''):\n",
    "    fig = plt.figure(figsize=(6,6))\n",
    "    if plot_style == '2d':\n",
    "        ax = fig.add_subplot(111)\n",
    "        ax.scatter(X[:,0], X[:,1], c=labels, lw=0)\n",
    "    elif plot_style == '3d':\n",
    "        ax = fig.add_subplot(111, projection='3d')\n",
    "        ax.scatter(X[:,0], X[:,1], labels, c=labels, lw=0)\n",
    "        ax.set_zlabel('k-th cluster')        \n",
    "    \n",
    "    plt.title(title)\n",
    "    ax.set_xlabel('X_1')\n",
    "    ax.set_ylabel('X_2')"
   ]
  },
  {
   "cell_type": "markdown",
   "metadata": {},
   "source": [
    "### K-Means"
   ]
  },
  {
   "cell_type": "code",
   "execution_count": 85,
   "metadata": {},
   "outputs": [
    {
     "data": {
      "image/png": "[encoded data removed]",
      "text/plain": [
       "<Figure size 600x600 with 1 Axes>"
      ]
     },
     "metadata": {},
     "output_type": "display_data"
    },
    {
     "data": {
      "image/png": "[encoded data removed]",
      "text/plain": [
       "<Figure size 600x600 with 1 Axes>"
      ]
     },
     "metadata": {},
     "output_type": "display_data"
    },
    {
     "data": {
      "image/png": "[encoded data removed]",
      "text/plain": [
       "<Figure size 600x600 with 1 Axes>"
      ]
     },
     "metadata": {},
     "output_type": "display_data"
    },
    {
     "data": {
      "image/png": "[encoded data removed]",
      "text/plain": [
       "<Figure size 600x600 with 1 Axes>"
      ]
     },
     "metadata": {},
     "output_type": "display_data"
    },
    {
     "data": {
      "image/png": "[encoded data removed]",
      "text/plain": [
       "<Figure size 600x600 with 1 Axes>"
      ]
     },
     "metadata": {},
     "output_type": "display_data"
    },
    {
     "name": "stdout",
     "output_type": "stream",
     "text": [
      "time: 1.39 s (started: 2023-09-12 00:31:38 +03:00)\n"
     ]
    }
   ],
   "source": [
    "for k in [7, 15, 23, 31, 45]:\n",
    "    display_plot(x_train2, km_results[k]['labels'], '2d', title=f\"K-Means, {k} clusters\")"
   ]
  },
  {
   "cell_type": "markdown",
   "metadata": {},
   "source": [
    "### Spectral Clustering"
   ]
  },
  {
   "cell_type": "code",
   "execution_count": 86,
   "metadata": {},
   "outputs": [
    {
     "data": {
      "image/png": "[encoded data removed]",
      "text/plain": [
       "<Figure size 600x600 with 1 Axes>"
      ]
     },
     "metadata": {},
     "output_type": "display_data"
    },
    {
     "name": "stdout",
     "output_type": "stream",
     "text": [
      "time: 312 ms (started: 2023-09-12 00:31:39 +03:00)\n"
     ]
    }
   ],
   "source": [
    "display_plot(x_train2, nc_labels, '2d', title=\"Spectral Clustering - RBF Kernel\")"
   ]
  },
  {
   "cell_type": "code",
   "execution_count": 87,
   "metadata": {},
   "outputs": [
    {
     "data": {
      "image/png": "[encoded data removed]",
      "text/plain": [
       "<Figure size 600x600 with 1 Axes>"
      ]
     },
     "metadata": {},
     "output_type": "display_data"
    },
    {
     "name": "stdout",
     "output_type": "stream",
     "text": [
      "time: 281 ms (started: 2023-09-12 00:31:40 +03:00)\n"
     ]
    }
   ],
   "source": [
    "display_plot(x_train2, nc_labels_knn, '2d', title=\"Spectral Clustering - KNN Kernel\")"
   ]
  },
  {
   "cell_type": "markdown",
   "metadata": {},
   "source": [
    "### DBSCAN"
   ]
  },
  {
   "cell_type": "code",
   "execution_count": 88,
   "metadata": {},
   "outputs": [
    {
     "data": {
      "image/png": "[encoded data removed]",
      "text/plain": [
       "<Figure size 600x600 with 1 Axes>"
      ]
     },
     "metadata": {},
     "output_type": "display_data"
    },
    {
     "name": "stdout",
     "output_type": "stream",
     "text": [
      "time: 282 ms (started: 2023-09-12 00:31:42 +03:00)\n"
     ]
    }
   ],
   "source": [
    "display_plot(x_train2, dbscan_labels, '2d', title=f\"DBSCAN\")"
   ]
  }
 ],
 "metadata": {
  "colab": {
   "provenance": [],
   "toc_visible": true
  },
  "kernelspec": {
   "display_name": "Python 3 (ipykernel)",
   "language": "python",
   "name": "python3"
  },
  "language_info": {
   "codemirror_mode": {
    "name": "ipython",
    "version": 3
   },
   "file_extension": ".py",
   "mimetype": "text/x-python",
   "name": "python",
   "nbconvert_exporter": "python",
   "pygments_lexer": "ipython3",
   "version": "3.11.5"
  }
 },
 "nbformat": 4,
 "nbformat_minor": 4
}
